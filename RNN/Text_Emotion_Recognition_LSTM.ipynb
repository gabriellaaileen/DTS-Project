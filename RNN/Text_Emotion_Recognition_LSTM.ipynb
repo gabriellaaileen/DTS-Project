{
  "metadata": {
    "kernelspec": {
      "language": "python",
      "display_name": "Python 3",
      "name": "python3"
    },
    "language_info": {
      "pygments_lexer": "ipython3",
      "nbconvert_exporter": "python",
      "version": "3.6.4",
      "file_extension": ".py",
      "codemirror_mode": {
        "name": "ipython",
        "version": 3
      },
      "name": "python",
      "mimetype": "text/x-python"
    },
    "colab": {
      "name": "Text Emotion Recognition_LSTM.ipynb",
      "provenance": [],
      "collapsed_sections": [],
      "include_colab_link": true
    },
    "accelerator": "GPU",
    "gpuClass": "standard"
  },
  "nbformat_minor": 0,
  "nbformat": 4,
  "cells": [
    {
      "cell_type": "markdown",
      "metadata": {
        "id": "view-in-github",
        "colab_type": "text"
      },
      "source": [
        "<a href=\"https://colab.research.google.com/github/gabriellaaileen/DTS-Project/blob/main/RNN/Text_Emotion_Recognition_LSTM.ipynb\" target=\"_parent\"><img src=\"https://colab.research.google.com/assets/colab-badge.svg\" alt=\"Open In Colab\"/></a>"
      ]
    },
    {
      "cell_type": "code",
      "source": [
        "import re\n",
        "import string\n",
        "import numpy as np\n",
        "import pandas as pd\n",
        "import matplotlib.pyplot as plt\n",
        "\n",
        "from sklearn.preprocessing import LabelEncoder\n",
        "from sklearn.model_selection import train_test_split\n",
        "\n",
        "from tensorflow.keras.utils import to_categorical\n",
        "from tensorflow.keras.preprocessing.text import Tokenizer\n",
        "from tensorflow.keras.preprocessing.sequence import pad_sequences\n",
        "\n",
        "from tensorflow.keras.optimizers import Adam\n",
        "from tensorflow.keras.models import Sequential\n",
        "from tensorflow.keras.callbacks import EarlyStopping\n",
        "from tensorflow.keras.layers import Dense, LSTM, Embedding, Bidirectional"
      ],
      "metadata": {
        "_uuid": "8f2839f25d086af736a60e9eeb907d3b93b6e0e5",
        "_cell_guid": "b1076dfc-b9ad-4769-8c92-a6c4dae69d19",
        "execution": {
          "iopub.status.busy": "2021-10-28T16:49:56.359082Z",
          "iopub.execute_input": "2021-10-28T16:49:56.359603Z",
          "iopub.status.idle": "2021-10-28T16:49:56.365625Z",
          "shell.execute_reply.started": "2021-10-28T16:49:56.359565Z",
          "shell.execute_reply": "2021-10-28T16:49:56.364911Z"
        },
        "trusted": true,
        "id": "t68PiZcNQpq0"
      },
      "execution_count": 127,
      "outputs": []
    },
    {
      "cell_type": "code",
      "source": [
        "from google.colab import drive\n",
        "drive.mount('/content/drive')"
      ],
      "metadata": {
        "colab": {
          "base_uri": "https://localhost:8080/"
        },
        "id": "S5tbyjXjQ2FQ",
        "outputId": "a3d7a058-8042-4199-861d-99ddac2adfcd"
      },
      "execution_count": 2,
      "outputs": [
        {
          "output_type": "stream",
          "name": "stdout",
          "text": [
            "Mounted at /content/drive\n"
          ]
        }
      ]
    },
    {
      "cell_type": "code",
      "source": [
        "# Text preprocessing function\n",
        "str_punc = string.punctuation.replace(',', '').replace(\"'\",'')\n",
        "\n",
        "def clean(text):\n",
        "    global str_punc\n",
        "    text = re.sub(r'[^a-zA-Z ]', '', text)\n",
        "    text = text.lower()\n",
        "    return text    "
      ],
      "metadata": {
        "execution": {
          "iopub.status.busy": "2021-10-28T16:49:24.707767Z",
          "iopub.execute_input": "2021-10-28T16:49:24.70831Z",
          "iopub.status.idle": "2021-10-28T16:49:24.713891Z",
          "shell.execute_reply.started": "2021-10-28T16:49:24.708271Z",
          "shell.execute_reply": "2021-10-28T16:49:24.712859Z"
        },
        "trusted": true,
        "id": "8D27h1V5Qpq5"
      },
      "execution_count": 3,
      "outputs": []
    },
    {
      "cell_type": "code",
      "source": [
        "# Read dataset & Preprocess text\n",
        "df_train = pd.read_csv('/content/drive/MyDrive/Assignment/train.txt', names=['Text', 'Emotion'], sep=';')\n",
        "df_val = pd.read_csv('/content/drive/MyDrive/Assignment/val.txt', names=['Text', 'Emotion'], sep=';')\n",
        "df_test = pd.read_csv('/content/drive/MyDrive/Assignment/test.txt', names=['Text', 'Emotion'], sep=';')\n",
        "\n",
        "X_train = df_train['Text'].apply(clean)\n",
        "y_train = df_train['Emotion']\n",
        "\n",
        "X_test = df_test['Text'].apply(clean)\n",
        "y_test = df_test['Emotion']\n",
        "\n",
        "X_val = df_val['Text'].apply(clean)\n",
        "y_val = df_val['Emotion']"
      ],
      "metadata": {
        "execution": {
          "iopub.status.busy": "2021-10-28T17:00:39.84876Z",
          "iopub.execute_input": "2021-10-28T17:00:39.849444Z",
          "iopub.status.idle": "2021-10-28T17:00:39.970872Z",
          "shell.execute_reply.started": "2021-10-28T17:00:39.849404Z",
          "shell.execute_reply": "2021-10-28T17:00:39.970153Z"
        },
        "trusted": true,
        "id": "orwQDQnyQpq7"
      },
      "execution_count": 128,
      "outputs": []
    },
    {
      "cell_type": "code",
      "source": [
        "# Visualize classes counts\n",
        "colors = np.array([\"gray\", 'orangered', 'hotpink', 'gold', 'teal', 'cornflowerblue'])\n",
        "\n",
        "y_train.value_counts().plot(kind='bar', color=colors, title=\"Training data - classes counts\")\n",
        "plt.show()\n",
        "\n",
        "y_test.value_counts().plot(kind='bar', color=colors, title=\"Testing data - classes counts\")\n",
        "plt.show()\n",
        "\n",
        "y_val.value_counts().plot(kind='bar', color=colors, title=\"Validation data - classes counts\")"
      ],
      "metadata": {
        "colab": {
          "base_uri": "https://localhost:8080/",
          "height": 919
        },
        "id": "msCQwqltELWt",
        "outputId": "41b115d6-d042-49ae-ca0d-af4bc8b456fd"
      },
      "execution_count": 129,
      "outputs": [
        {
          "output_type": "display_data",
          "data": {
            "text/plain": [
              "<Figure size 432x288 with 1 Axes>"
            ],
            "image/png": "[encoded data removed]"
          },
          "metadata": {
            "needs_background": "light"
          }
        },
        {
          "output_type": "display_data",
          "data": {
            "text/plain": [
              "<Figure size 432x288 with 1 Axes>"
            ],
            "image/png": "[encoded data removed]"
          },
          "metadata": {
            "needs_background": "light"
          }
        },
        {
          "output_type": "execute_result",
          "data": {
            "text/plain": [
              "<matplotlib.axes._subplots.AxesSubplot at 0x7f4734053650>"
            ]
          },
          "metadata": {},
          "execution_count": 129
        },
        {
          "output_type": "display_data",
          "data": {
            "text/plain": [
              "<Figure size 432x288 with 1 Axes>"
            ],
            "image/png": "[encoded data removed]"
          },
          "metadata": {
            "needs_background": "light"
          }
        }
      ]
    },
    {
      "cell_type": "code",
      "source": [
        "# Encode labels\n",
        "# Sudah disediakan beberapa variable, lengkapi variabel tersebut\n",
        "le = LabelEncoder()\n",
        "y_train = le.fit_transform(y_train) \n",
        "y_test = le.fit_transform(y_test)\n",
        "y_val = le.fit_transform(y_val)\n",
        "\n",
        "y_train = y_train.reshape(-1,1)\n",
        "y_test = y_test.reshape(-1,1)\n",
        "y_val = y_val.reshape(-1,1)"
      ],
      "metadata": {
        "execution": {
          "iopub.status.busy": "2021-10-28T17:01:21.726601Z",
          "iopub.execute_input": "2021-10-28T17:01:21.72706Z",
          "iopub.status.idle": "2021-10-28T17:01:21.743992Z",
          "shell.execute_reply.started": "2021-10-28T17:01:21.727018Z",
          "shell.execute_reply": "2021-10-28T17:01:21.743311Z"
        },
        "trusted": true,
        "id": "V9F2tWMGQpq_"
      },
      "execution_count": 130,
      "outputs": []
    },
    {
      "cell_type": "code",
      "source": [
        "for i in range(len(list(le.classes_))):\n",
        "  print(str(i)+\" : \"+list(le.classes_)[i])"
      ],
      "metadata": {
        "colab": {
          "base_uri": "https://localhost:8080/"
        },
        "id": "DSw0OeQGYp-P",
        "outputId": "09560bff-7063-4f47-a73e-69ff4e8bbd35"
      },
      "execution_count": 131,
      "outputs": [
        {
          "output_type": "stream",
          "name": "stdout",
          "text": [
            "0 : anger\n",
            "1 : fear\n",
            "2 : joy\n",
            "3 : love\n",
            "4 : sadness\n",
            "5 : surprise\n"
          ]
        }
      ]
    },
    {
      "cell_type": "code",
      "source": [
        "# Tokenize words\n",
        "tokenizer = Tokenizer()\n",
        "tokenizer.fit_on_texts(pd.concat([X_train, X_test], axis=0))\n",
        "\n",
        "sequences_train = tokenizer.texts_to_sequences(X_train)\n",
        "sequences_test = tokenizer.texts_to_sequences(X_test)\n",
        "sequences_val = tokenizer.texts_to_sequences(X_val)\n",
        "\n",
        "X_train = pad_sequences(sequences_train, maxlen=256, truncating='pre')\n",
        "X_test = pad_sequences(sequences_test, maxlen=256, truncating='pre')\n",
        "X_val = pad_sequences(sequences_val, maxlen=256, truncating='pre')\n",
        "\n",
        "vocabSize = len(tokenizer.index_word) + 1\n",
        "print(f\"Vocabulary size = {vocabSize}\")"
      ],
      "metadata": {
        "execution": {
          "iopub.status.busy": "2021-10-28T17:01:29.161255Z",
          "iopub.execute_input": "2021-10-28T17:01:29.161522Z",
          "iopub.status.idle": "2021-10-28T17:01:30.218061Z",
          "shell.execute_reply.started": "2021-10-28T17:01:29.161484Z",
          "shell.execute_reply": "2021-10-28T17:01:30.217279Z"
        },
        "trusted": true,
        "colab": {
          "base_uri": "https://localhost:8080/"
        },
        "id": "d40kAQnHQprC",
        "outputId": "63302f02-df94-4200-9702-b2eb34ecba3e"
      },
      "execution_count": 132,
      "outputs": [
        {
          "output_type": "stream",
          "name": "stdout",
          "text": [
            "Vocabulary size = 16185\n"
          ]
        }
      ]
    },
    {
      "cell_type": "code",
      "source": [
        "#Read GloVE embeddings\n",
        "path_to_glove_file = '/content/drive/MyDrive/Assignment/glove.6B.200d.txt'\n",
        "num_tokens = vocabSize\n",
        "embedding_dim = 200\n",
        "hits = 0\n",
        "misses = 0\n",
        "embeddings_index = {}\n",
        "\n",
        "# Read word vectors\n",
        "with open(path_to_glove_file) as f:\n",
        "    for line in f:\n",
        "        word, coefs = line.split(maxsplit=1)\n",
        "        coefs = np.fromstring(coefs, \"f\", sep=\" \")\n",
        "        embeddings_index[word] = coefs\n",
        "print(\"Found %s word vectors.\" % len(embeddings_index))\n",
        "\n",
        "\n",
        "# Assign word vectors to our dictionary/vocabulary\n",
        "embedding_matrix = np.zeros((num_tokens, embedding_dim))\n",
        "for word, i in tokenizer.word_index.items():\n",
        "    embedding_vector = embeddings_index.get(word)\n",
        "    if embedding_vector is not None:\n",
        "        # Words not found in embedding index will be all-zeros.\n",
        "        # This includes the representation for \"padding\" and \"OOV\"\n",
        "        embedding_matrix[i] = embedding_vector\n",
        "        hits += 1\n",
        "    else:\n",
        "        misses += 1\n",
        "print(\"Converted %d words (%d misses)\" % (hits, misses))"
      ],
      "metadata": {
        "execution": {
          "iopub.status.busy": "2021-10-28T17:01:33.7402Z",
          "iopub.execute_input": "2021-10-28T17:01:33.740659Z",
          "iopub.status.idle": "2021-10-28T17:01:56.449165Z",
          "shell.execute_reply.started": "2021-10-28T17:01:33.740619Z",
          "shell.execute_reply": "2021-10-28T17:01:56.44837Z"
        },
        "trusted": true,
        "id": "e67R2xDlQprD",
        "colab": {
          "base_uri": "https://localhost:8080/"
        },
        "outputId": "17f62c59-c8c3-4306-f9ad-888e07e3f4d5"
      },
      "execution_count": 133,
      "outputs": [
        {
          "output_type": "stream",
          "name": "stdout",
          "text": [
            "Found 400000 word vectors.\n",
            "Converted 15069 words (1115 misses)\n"
          ]
        }
      ]
    },
    {
      "cell_type": "code",
      "source": [
        "# Build neural network architecture\n",
        "\n",
        "adam = Adam(learning_rate=0.005)\n",
        "\n",
        "# Parameters\n",
        "embedding_dim = 20\n",
        "lstm_dim = 64\n",
        "dense_dim = 16\n",
        "\n",
        "# Model Definition with LSTM\n",
        "import tensorflow as tf\n",
        "\n",
        "model_lstm = tf.keras.Sequential([\n",
        "    tf.keras.layers.Embedding(vocabSize, embedding_dim),\n",
        "    tf.keras.layers.Bidirectional(tf.keras.layers.LSTM(lstm_dim)),\n",
        "    tf.keras.layers.Dense(dense_dim, activation='relu'),\n",
        "    tf.keras.layers.Dropout(0.2),\n",
        "    tf.keras.layers.Dense(6, activation='softmax')\n",
        "])"
      ],
      "metadata": {
        "execution": {
          "iopub.status.busy": "2021-10-28T17:02:11.518662Z",
          "iopub.execute_input": "2021-10-28T17:02:11.519376Z",
          "iopub.status.idle": "2021-10-28T17:02:13.214957Z",
          "shell.execute_reply.started": "2021-10-28T17:02:11.519339Z",
          "shell.execute_reply": "2021-10-28T17:02:13.214256Z"
        },
        "trusted": true,
        "id": "wSJWnBz2QprE"
      },
      "execution_count": 216,
      "outputs": []
    },
    {
      "cell_type": "code",
      "source": [
        "#Callback\n",
        "callback = EarlyStopping(\n",
        "    monitor=\"val_loss\",\n",
        "    patience=10,\n",
        "    restore_best_weights=True,\n",
        "    mode='auto'\n",
        ")"
      ],
      "metadata": {
        "execution": {
          "iopub.status.busy": "2021-10-28T17:02:20.557742Z",
          "iopub.execute_input": "2021-10-28T17:02:20.55807Z",
          "iopub.status.idle": "2021-10-28T17:02:20.562524Z",
          "shell.execute_reply.started": "2021-10-28T17:02:20.558037Z",
          "shell.execute_reply": "2021-10-28T17:02:20.561488Z"
        },
        "trusted": true,
        "id": "VSjuWsCsQprG"
      },
      "execution_count": 209,
      "outputs": []
    },
    {
      "cell_type": "code",
      "source": [
        "model_lstm.compile(loss=tf.keras.losses.SparseCategoricalCrossentropy(from_logits=True),optimizer=adam,metrics=['accuracy'])"
      ],
      "metadata": {
        "id": "JjNvx91VMHz7"
      },
      "execution_count": 217,
      "outputs": []
    },
    {
      "cell_type": "code",
      "source": [
        "model_lstm.summary()"
      ],
      "metadata": {
        "colab": {
          "base_uri": "https://localhost:8080/"
        },
        "id": "_C_rjtaOPW7S",
        "outputId": "3ae8adc4-f43a-4875-a5dc-ab6c025d9c92"
      },
      "execution_count": 218,
      "outputs": [
        {
          "output_type": "stream",
          "name": "stdout",
          "text": [
            "Model: \"sequential_11\"\n",
            "_________________________________________________________________\n",
            " Layer (type)                Output Shape              Param #   \n",
            "=================================================================\n",
            " embedding_11 (Embedding)    (None, None, 20)          323700    \n",
            "                                                                 \n",
            " bidirectional_11 (Bidirecti  (None, 128)              43520     \n",
            " onal)                                                           \n",
            "                                                                 \n",
            " dense_21 (Dense)            (None, 16)                2064      \n",
            "                                                                 \n",
            " dropout_1 (Dropout)         (None, 16)                0         \n",
            "                                                                 \n",
            " dense_22 (Dense)            (None, 6)                 102       \n",
            "                                                                 \n",
            "=================================================================\n",
            "Total params: 369,386\n",
            "Trainable params: 369,386\n",
            "Non-trainable params: 0\n",
            "_________________________________________________________________\n"
          ]
        }
      ]
    },
    {
      "cell_type": "code",
      "source": [
        "# Fit model\n",
        "history = model_lstm.fit(X_train, y_train, batch_size=64, epochs=50, validation_data=(X_val, y_val),callbacks=callback)"
      ],
      "metadata": {
        "execution": {
          "iopub.status.busy": "2021-10-28T17:02:22.580574Z",
          "iopub.execute_input": "2021-10-28T17:02:22.581177Z",
          "iopub.status.idle": "2021-10-28T17:09:55.805217Z",
          "shell.execute_reply.started": "2021-10-28T17:02:22.581141Z",
          "shell.execute_reply": "2021-10-28T17:09:55.804395Z"
        },
        "trusted": true,
        "id": "CM_GyHrFQprI",
        "colab": {
          "base_uri": "https://localhost:8080/"
        },
        "outputId": "43f31a96-daa2-413c-8b8a-a304c037e073"
      },
      "execution_count": 219,
      "outputs": [
        {
          "output_type": "stream",
          "name": "stdout",
          "text": [
            "Epoch 1/50\n"
          ]
        },
        {
          "output_type": "stream",
          "name": "stderr",
          "text": [
            "/usr/local/lib/python3.7/dist-packages/tensorflow/python/util/dispatch.py:1082: UserWarning: \"`sparse_categorical_crossentropy` received `from_logits=True`, but the `output` argument was produced by a sigmoid or softmax activation and thus does not represent logits. Was this intended?\"\n",
            "  return dispatch_target(*args, **kwargs)\n"
          ]
        },
        {
          "output_type": "stream",
          "name": "stdout",
          "text": [
            "250/250 [==============================] - 8s 24ms/step - loss: 1.1550 - accuracy: 0.5605 - val_loss: 0.5981 - val_accuracy: 0.7945\n",
            "Epoch 2/50\n",
            "250/250 [==============================] - 5s 20ms/step - loss: 0.3939 - accuracy: 0.8677 - val_loss: 0.2815 - val_accuracy: 0.9045\n",
            "Epoch 3/50\n",
            "250/250 [==============================] - 5s 20ms/step - loss: 0.2106 - accuracy: 0.9290 - val_loss: 0.2370 - val_accuracy: 0.9080\n",
            "Epoch 4/50\n",
            "250/250 [==============================] - 5s 20ms/step - loss: 0.1460 - accuracy: 0.9476 - val_loss: 0.2523 - val_accuracy: 0.9180\n",
            "Epoch 5/50\n",
            "250/250 [==============================] - 5s 20ms/step - loss: 0.1266 - accuracy: 0.9545 - val_loss: 0.2497 - val_accuracy: 0.9225\n",
            "Epoch 6/50\n",
            "250/250 [==============================] - 5s 20ms/step - loss: 0.1069 - accuracy: 0.9628 - val_loss: 0.2609 - val_accuracy: 0.9260\n",
            "Epoch 7/50\n",
            "250/250 [==============================] - 5s 20ms/step - loss: 0.0838 - accuracy: 0.9697 - val_loss: 0.2590 - val_accuracy: 0.9265\n",
            "Epoch 8/50\n",
            "250/250 [==============================] - 5s 20ms/step - loss: 0.0737 - accuracy: 0.9731 - val_loss: 0.2575 - val_accuracy: 0.9310\n",
            "Epoch 9/50\n",
            "250/250 [==============================] - 5s 20ms/step - loss: 0.0712 - accuracy: 0.9746 - val_loss: 0.2621 - val_accuracy: 0.9370\n",
            "Epoch 10/50\n",
            "250/250 [==============================] - 5s 20ms/step - loss: 0.0599 - accuracy: 0.9789 - val_loss: 0.2615 - val_accuracy: 0.9300\n",
            "Epoch 11/50\n",
            "250/250 [==============================] - 5s 20ms/step - loss: 0.0553 - accuracy: 0.9803 - val_loss: 0.2738 - val_accuracy: 0.9335\n",
            "Epoch 12/50\n",
            "250/250 [==============================] - 5s 20ms/step - loss: 0.0598 - accuracy: 0.9791 - val_loss: 0.2813 - val_accuracy: 0.9295\n",
            "Epoch 13/50\n",
            "250/250 [==============================] - 5s 20ms/step - loss: 0.1047 - accuracy: 0.9680 - val_loss: 0.2505 - val_accuracy: 0.9340\n"
          ]
        }
      ]
    },
    {
      "cell_type": "code",
      "source": [
        "model_lstm.evaluate(X_val, y_val, verbose=1)"
      ],
      "metadata": {
        "execution": {
          "iopub.status.busy": "2021-10-28T17:14:45.655628Z",
          "iopub.execute_input": "2021-10-28T17:14:45.656436Z",
          "iopub.status.idle": "2021-10-28T17:15:26.650347Z",
          "shell.execute_reply.started": "2021-10-28T17:14:45.656399Z",
          "shell.execute_reply": "2021-10-28T17:15:26.649551Z"
        },
        "trusted": true,
        "id": "Duln-TnJQprI",
        "colab": {
          "base_uri": "https://localhost:8080/"
        },
        "outputId": "7953b590-1f19-4485-86eb-b41be7523138"
      },
      "execution_count": 220,
      "outputs": [
        {
          "output_type": "stream",
          "name": "stdout",
          "text": [
            "63/63 [==============================] - 1s 11ms/step - loss: 0.2370 - accuracy: 0.9080\n"
          ]
        },
        {
          "output_type": "execute_result",
          "data": {
            "text/plain": [
              "[0.2370203733444214, 0.9079999923706055]"
            ]
          },
          "metadata": {},
          "execution_count": 220
        }
      ]
    },
    {
      "cell_type": "code",
      "source": [
        "# Visualize Loss & Accuracy\n",
        "\n",
        "%matplotlib inline\n",
        "import matplotlib.pyplot as plt\n",
        "acc = history.history['accuracy']\n",
        "val_acc = history.history['val_accuracy']\n",
        "loss = history.history['loss']\n",
        "val_loss = history.history['val_loss']\n",
        "\n",
        "epochs = range(len(acc))\n",
        "\n",
        "plt.plot(epochs, acc, 'r', label='Training accuracy')\n",
        "plt.plot(epochs, val_acc, 'b', label='Validation accuracy')\n",
        "plt.title('Training and validation accuracy')\n",
        "plt.legend()\n",
        "plt.figure()\n",
        "\n",
        "plt.plot(epochs, loss, 'r', label='Training Loss')\n",
        "plt.plot(epochs, val_loss, 'b', label='Validation Loss')\n",
        "plt.title('Training and validation loss')\n",
        "plt.legend()\n",
        "\n",
        "plt.show()"
      ],
      "metadata": {
        "execution": {
          "iopub.status.busy": "2021-10-28T17:15:31.082882Z",
          "iopub.execute_input": "2021-10-28T17:15:31.08361Z",
          "iopub.status.idle": "2021-10-28T17:15:31.495194Z",
          "shell.execute_reply.started": "2021-10-28T17:15:31.083557Z",
          "shell.execute_reply": "2021-10-28T17:15:31.494441Z"
        },
        "trusted": true,
        "id": "0E60nVznQprO",
        "colab": {
          "base_uri": "https://localhost:8080/",
          "height": 545
        },
        "outputId": "7b3c3d4f-d10e-4d6c-ea39-15c759a21403"
      },
      "execution_count": 221,
      "outputs": [
        {
          "output_type": "display_data",
          "data": {
            "text/plain": [
              "<Figure size 432x288 with 1 Axes>"
            ],
            "image/png": "[encoded data removed]"
          },
          "metadata": {
            "needs_background": "light"
          }
        },
        {
          "output_type": "display_data",
          "data": {
            "text/plain": [
              "<Figure size 432x288 with 1 Axes>"
            ],
            "image/png": "[encoded data removed]"
          },
          "metadata": {
            "needs_background": "light"
          }
        }
      ]
    },
    {
      "cell_type": "code",
      "source": [
        "# Classify custom sample\n",
        "\n",
        "sentences = [\n",
        "            \"i love studying machine learning. machine learning is so fun!\" \n",
        "            ]\n",
        "\n",
        "for sentence in sentences:\n",
        "    print(sentence)\n",
        "    sentence = clean(sentence)\n",
        "    sentence = tokenizer.texts_to_sequences([sentence])\n",
        "    sentence = pad_sequences(sentence, maxlen=256, truncating='pre')\n",
        "    result = le.inverse_transform(np.argmax(model_lstm.predict(sentence), axis=-1))[0]\n",
        "    proba =  np.max(model_lstm.predict(sentence))\n",
        "    print(f\"{result} : {proba}\\n\")"
      ],
      "metadata": {
        "execution": {
          "iopub.status.busy": "2021-10-28T17:15:46.84557Z",
          "iopub.execute_input": "2021-10-28T17:15:46.845844Z",
          "iopub.status.idle": "2021-10-28T17:15:49.10411Z",
          "shell.execute_reply.started": "2021-10-28T17:15:46.845813Z",
          "shell.execute_reply": "2021-10-28T17:15:49.103351Z"
        },
        "trusted": true,
        "id": "hFGFd0gQQprP",
        "colab": {
          "base_uri": "https://localhost:8080/"
        },
        "outputId": "cdb4221e-f2f0-4849-8518-c0e5c6705b70"
      },
      "execution_count": 227,
      "outputs": [
        {
          "output_type": "stream",
          "name": "stdout",
          "text": [
            "i love studying machine learning. machine learning is so fun!\n",
            "sadness : 0.4995143413543701\n",
            "\n"
          ]
        }
      ]
    },
    {
      "cell_type": "code",
      "source": [
        "sentences = df_test['Text']\n",
        "predictions=[]\n",
        "for sentence in sentences:\n",
        "    sentence = clean(sentence)\n",
        "    sentence = tokenizer.texts_to_sequences([sentence])\n",
        "    sentence = pad_sequences(sentence, maxlen=256, truncating='pre')\n",
        "    predictions.append(np.argmax(model_lstm.predict(sentence)))"
      ],
      "metadata": {
        "id": "SU7oW4h6iLCD"
      },
      "execution_count": 228,
      "outputs": []
    },
    {
      "cell_type": "code",
      "source": [
        "from sklearn.metrics import accuracy_score\n",
        "from sklearn import metrics\n",
        "from sklearn.metrics import classification_report\n",
        "from sklearn.metrics import confusion_matrix"
      ],
      "metadata": {
        "id": "ru7qlCfmm2-1"
      },
      "execution_count": 188,
      "outputs": []
    },
    {
      "cell_type": "code",
      "source": [
        "testing = pd.DataFrame()\n",
        "test_label=[]\n",
        "for i in range (len(y_test)):\n",
        "  test_label.append(y_test[i][0])\n",
        "\n",
        "testing['Emotion'] = test_label\n",
        "testing['Pred_Emotion'] = predictions\n",
        "\n",
        "testing"
      ],
      "metadata": {
        "colab": {
          "base_uri": "https://localhost:8080/",
          "height": 424
        },
        "id": "e295-BL5jDfE",
        "outputId": "7ba85143-0da2-4c14-b32b-2b3209bad668"
      },
      "execution_count": 229,
      "outputs": [
        {
          "output_type": "execute_result",
          "data": {
            "text/plain": [
              "      Emotion  Pred_Emotion\n",
              "0           4             4\n",
              "1           4             4\n",
              "2           4             4\n",
              "3           2             2\n",
              "4           4             4\n",
              "...       ...           ...\n",
              "1995        0             0\n",
              "1996        0             0\n",
              "1997        2             2\n",
              "1998        2             2\n",
              "1999        1             5\n",
              "\n",
              "[2000 rows x 2 columns]"
            ],
            "text/html": [
              "\n",
              "  <div id=\"df-a46c1265-a639-4c00-8fae-be8342a8ef58\">\n",
              "    <div class=\"colab-df-container\">\n",
              "      <div>\n",
              "<style scoped>\n",
              "    .dataframe tbody tr th:only-of-type {\n",
              "        vertical-align: middle;\n",
              "    }\n",
              "\n",
              "    .dataframe tbody tr th {\n",
              "        vertical-align: top;\n",
              "    }\n",
              "\n",
              "    .dataframe thead th {\n",
              "        text-align: right;\n",
              "    }\n",
              "</style>\n",
              "<table border=\"1\" class=\"dataframe\">\n",
              "  <thead>\n",
              "    <tr style=\"text-align: right;\">\n",
              "      <th></th>\n",
              "      <th>Emotion</th>\n",
              "      <th>Pred_Emotion</th>\n",
              "    </tr>\n",
              "  </thead>\n",
              "  <tbody>\n",
              "    <tr>\n",
              "      <th>0</th>\n",
              "      <td>4</td>\n",
              "      <td>4</td>\n",
              "    </tr>\n",
              "    <tr>\n",
              "      <th>1</th>\n",
              "      <td>4</td>\n",
              "      <td>4</td>\n",
              "    </tr>\n",
              "    <tr>\n",
              "      <th>2</th>\n",
              "      <td>4</td>\n",
              "      <td>4</td>\n",
              "    </tr>\n",
              "    <tr>\n",
              "      <th>3</th>\n",
              "      <td>2</td>\n",
              "      <td>2</td>\n",
              "    </tr>\n",
              "    <tr>\n",
              "      <th>4</th>\n",
              "      <td>4</td>\n",
              "      <td>4</td>\n",
              "    </tr>\n",
              "    <tr>\n",
              "      <th>...</th>\n",
              "      <td>...</td>\n",
              "      <td>...</td>\n",
              "    </tr>\n",
              "    <tr>\n",
              "      <th>1995</th>\n",
              "      <td>0</td>\n",
              "      <td>0</td>\n",
              "    </tr>\n",
              "    <tr>\n",
              "      <th>1996</th>\n",
              "      <td>0</td>\n",
              "      <td>0</td>\n",
              "    </tr>\n",
              "    <tr>\n",
              "      <th>1997</th>\n",
              "      <td>2</td>\n",
              "      <td>2</td>\n",
              "    </tr>\n",
              "    <tr>\n",
              "      <th>1998</th>\n",
              "      <td>2</td>\n",
              "      <td>2</td>\n",
              "    </tr>\n",
              "    <tr>\n",
              "      <th>1999</th>\n",
              "      <td>1</td>\n",
              "      <td>5</td>\n",
              "    </tr>\n",
              "  </tbody>\n",
              "</table>\n",
              "<p>2000 rows × 2 columns</p>\n",
              "</div>\n",
              "      <button class=\"colab-df-convert\" onclick=\"convertToInteractive('df-a46c1265-a639-4c00-8fae-be8342a8ef58')\"\n",
              "              title=\"Convert this dataframe to an interactive table.\"\n",
              "              style=\"display:none;\">\n",
              "        \n",
              "  <svg xmlns=\"http://www.w3.org/2000/svg\" height=\"24px\"viewBox=\"0 0 24 24\"\n",
              "       width=\"24px\">\n",
              "    <path d=\"M0 0h24v24H0V0z\" fill=\"none\"/>\n",
              "    <path d=\"M18.56 5.44l.94 2.06.94-2.06 2.06-.94-2.06-.94-.94-2.06-.94 2.06-2.06.94zm-11 1L8.5 8.5l.94-2.06 2.06-.94-2.06-.94L8.5 2.5l-.94 2.06-2.06.94zm10 10l.94 2.06.94-2.06 2.06-.94-2.06-.94-.94-2.06-.94 2.06-2.06.94z\"/><path d=\"M17.41 7.96l-1.37-1.37c-.4-.4-.92-.59-1.43-.59-.52 0-1.04.2-1.43.59L10.3 9.45l-7.72 7.72c-.78.78-.78 2.05 0 2.83L4 21.41c.39.39.9.59 1.41.59.51 0 1.02-.2 1.41-.59l7.78-7.78 2.81-2.81c.8-.78.8-2.07 0-2.86zM5.41 20L4 18.59l7.72-7.72 1.47 1.35L5.41 20z\"/>\n",
              "  </svg>\n",
              "      </button>\n",
              "      \n",
              "  <style>\n",
              "    .colab-df-container {\n",
              "      display:flex;\n",
              "      flex-wrap:wrap;\n",
              "      gap: 12px;\n",
              "    }\n",
              "\n",
              "    .colab-df-convert {\n",
              "      background-color: #E8F0FE;\n",
              "      border: none;\n",
              "      border-radius: 50%;\n",
              "      cursor: pointer;\n",
              "      display: none;\n",
              "      fill: #1967D2;\n",
              "      height: 32px;\n",
              "      padding: 0 0 0 0;\n",
              "      width: 32px;\n",
              "    }\n",
              "\n",
              "    .colab-df-convert:hover {\n",
              "      background-color: #E2EBFA;\n",
              "      box-shadow: 0px 1px 2px rgba(60, 64, 67, 0.3), 0px 1px 3px 1px rgba(60, 64, 67, 0.15);\n",
              "      fill: #174EA6;\n",
              "    }\n",
              "\n",
              "    [theme=dark] .colab-df-convert {\n",
              "      background-color: #3B4455;\n",
              "      fill: #D2E3FC;\n",
              "    }\n",
              "\n",
              "    [theme=dark] .colab-df-convert:hover {\n",
              "      background-color: #434B5C;\n",
              "      box-shadow: 0px 1px 3px 1px rgba(0, 0, 0, 0.15);\n",
              "      filter: drop-shadow(0px 1px 2px rgba(0, 0, 0, 0.3));\n",
              "      fill: #FFFFFF;\n",
              "    }\n",
              "  </style>\n",
              "\n",
              "      <script>\n",
              "        const buttonEl =\n",
              "          document.querySelector('#df-a46c1265-a639-4c00-8fae-be8342a8ef58 button.colab-df-convert');\n",
              "        buttonEl.style.display =\n",
              "          google.colab.kernel.accessAllowed ? 'block' : 'none';\n",
              "\n",
              "        async function convertToInteractive(key) {\n",
              "          const element = document.querySelector('#df-a46c1265-a639-4c00-8fae-be8342a8ef58');\n",
              "          const dataTable =\n",
              "            await google.colab.kernel.invokeFunction('convertToInteractive',\n",
              "                                                     [key], {});\n",
              "          if (!dataTable) return;\n",
              "\n",
              "          const docLinkHtml = 'Like what you see? Visit the ' +\n",
              "            '<a target=\"_blank\" href=https://colab.research.google.com/notebooks/data_table.ipynb>data table notebook</a>'\n",
              "            + ' to learn more about interactive tables.';\n",
              "          element.innerHTML = '';\n",
              "          dataTable['output_type'] = 'display_data';\n",
              "          await google.colab.output.renderOutput(dataTable, element);\n",
              "          const docLink = document.createElement('div');\n",
              "          docLink.innerHTML = docLinkHtml;\n",
              "          element.appendChild(docLink);\n",
              "        }\n",
              "      </script>\n",
              "    </div>\n",
              "  </div>\n",
              "  "
            ]
          },
          "metadata": {},
          "execution_count": 229
        }
      ]
    },
    {
      "cell_type": "code",
      "source": [
        "print(\"CONFUSION MATRIX\")\n",
        "print(metrics.confusion_matrix(testing['Emotion'].values, testing['Pred_Emotion'].values,labels = [0,1,2,3,4,5]))"
      ],
      "metadata": {
        "colab": {
          "base_uri": "https://localhost:8080/"
        },
        "id": "R4k9j7F7mked",
        "outputId": "740eaa65-aa3c-4b92-f0a4-8fea85bd3c98"
      },
      "execution_count": 230,
      "outputs": [
        {
          "output_type": "stream",
          "name": "stdout",
          "text": [
            "CONFUSION MATRIX\n",
            "[[254   0   0   3  16   2]\n",
            " [ 10 179   0   2   4  29]\n",
            " [  5   0 613  68   2   7]\n",
            " [  3   0  10 145   1   0]\n",
            " [  1   0   3   2 572   3]\n",
            " [  0   0   0   2   0  64]]\n"
          ]
        }
      ]
    },
    {
      "cell_type": "code",
      "source": [
        "print(classification_report(testing['Emotion'].values, testing['Pred_Emotion'].values))"
      ],
      "metadata": {
        "colab": {
          "base_uri": "https://localhost:8080/"
        },
        "id": "vYpawKaTnh3S",
        "outputId": "af887a95-952e-419d-d73a-6514a70b22b6"
      },
      "execution_count": 231,
      "outputs": [
        {
          "output_type": "stream",
          "name": "stdout",
          "text": [
            "              precision    recall  f1-score   support\n",
            "\n",
            "           0       0.93      0.92      0.93       275\n",
            "           1       1.00      0.80      0.89       224\n",
            "           2       0.98      0.88      0.93       695\n",
            "           3       0.65      0.91      0.76       159\n",
            "           4       0.96      0.98      0.97       581\n",
            "           5       0.61      0.97      0.75        66\n",
            "\n",
            "    accuracy                           0.91      2000\n",
            "   macro avg       0.86      0.91      0.87      2000\n",
            "weighted avg       0.93      0.91      0.92      2000\n",
            "\n"
          ]
        }
      ]
    },
    {
      "cell_type": "code",
      "source": [
        "import pickle\n",
        "with open('tokenizer.pickle', 'wb') as f:\n",
        "    pickle.dump(tokenizer, f)\n",
        "    \n",
        "with open('labelEncoder.pickle', 'wb') as f:\n",
        "    pickle.dump(le, f)\n",
        "    \n",
        "    \n",
        "model_lstm.save('Emotion Recognition.h5')"
      ],
      "metadata": {
        "id": "1OAz47lBQprP"
      },
      "execution_count": 232,
      "outputs": []
    }
  ]
}