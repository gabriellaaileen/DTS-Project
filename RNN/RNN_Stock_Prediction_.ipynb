{
  "cells": [
    {
      "cell_type": "markdown",
      "metadata": {
        "id": "view-in-github",
        "colab_type": "text"
      },
      "source": [
        "<a href=\"https://colab.research.google.com/github/gabriellaaileen/DTS-Project/blob/main/RNN/RNN_Stock_Prediction_.ipynb\" target=\"_parent\"><img src=\"https://colab.research.google.com/assets/colab-badge.svg\" alt=\"Open In Colab\"/></a>"
      ]
    },
    {
      "cell_type": "code",
      "execution_count": 1,
      "metadata": {
        "id": "7ZhkVgA2baKo"
      },
      "outputs": [],
      "source": [
        "import numpy as np # linear algebra\n",
        "import pandas as pd # data processing, CSV file I/O (e.g. pd.read_csv)"
      ]
    },
    {
      "cell_type": "code",
      "execution_count": 2,
      "metadata": {
        "id": "LJ_8CnVKbaKv"
      },
      "outputs": [],
      "source": [
        "# Importing the libraries\n",
        "import matplotlib.pyplot as plt\n",
        "import datetime"
      ]
    },
    {
      "cell_type": "code",
      "execution_count": 3,
      "metadata": {
        "id": "lIRHPuT_q_3v"
      },
      "outputs": [],
      "source": [
        "import seaborn as sns"
      ]
    },
    {
      "cell_type": "code",
      "execution_count": 4,
      "metadata": {
        "colab": {
          "base_uri": "https://localhost:8080/"
        },
        "id": "NU3E88Wvbrdp",
        "outputId": "975a67bb-9169-4661-c8fc-860fea57aaea"
      },
      "outputs": [
        {
          "output_type": "stream",
          "name": "stdout",
          "text": [
            "Mounted at /content/drive\n"
          ]
        }
      ],
      "source": [
        "from google.colab import drive\n",
        "drive.mount('/content/drive')"
      ]
    },
    {
      "cell_type": "code",
      "execution_count": 5,
      "metadata": {
        "id": "WBG9Ca6VbaKw"
      },
      "outputs": [],
      "source": [
        "#ubah pathnya sesuai lokasi dataset \n",
        "dataset=pd.read_csv('/content/drive/MyDrive/time series/Google_Stock_Price_Train.csv',index_col=\"Date\",parse_dates=True)"
      ]
    },
    {
      "cell_type": "markdown",
      "metadata": {
        "id": "aPJdMEaXbxw7"
      },
      "source": [
        "##Explore Dataset"
      ]
    },
    {
      "cell_type": "code",
      "execution_count": 6,
      "metadata": {
        "colab": {
          "base_uri": "https://localhost:8080/",
          "height": 237
        },
        "id": "f-GV5MmSbaKy",
        "outputId": "e2596250-f052-4308-9b01-b67593a3587f"
      },
      "outputs": [
        {
          "output_type": "execute_result",
          "data": {
            "text/plain": [
              "              Open    High     Low   Close      Volume\n",
              "Date                                                  \n",
              "2012-01-03  325.25  332.83  324.97  663.59   7,380,500\n",
              "2012-01-04  331.27  333.87  329.08  666.45   5,749,400\n",
              "2012-01-05  329.83  330.75  326.89  657.21   6,590,300\n",
              "2012-01-06  328.34  328.77  323.68  648.24   5,405,900\n",
              "2012-01-09  322.04  322.29  309.46  620.76  11,688,800"
            ],
            "text/html": [
              "\n",
              "  <div id=\"df-d0a82661-7333-4757-997e-fee9abaae151\">\n",
              "    <div class=\"colab-df-container\">\n",
              "      <div>\n",
              "<style scoped>\n",
              "    .dataframe tbody tr th:only-of-type {\n",
              "        vertical-align: middle;\n",
              "    }\n",
              "\n",
              "    .dataframe tbody tr th {\n",
              "        vertical-align: top;\n",
              "    }\n",
              "\n",
              "    .dataframe thead th {\n",
              "        text-align: right;\n",
              "    }\n",
              "</style>\n",
              "<table border=\"1\" class=\"dataframe\">\n",
              "  <thead>\n",
              "    <tr style=\"text-align: right;\">\n",
              "      <th></th>\n",
              "      <th>Open</th>\n",
              "      <th>High</th>\n",
              "      <th>Low</th>\n",
              "      <th>Close</th>\n",
              "      <th>Volume</th>\n",
              "    </tr>\n",
              "    <tr>\n",
              "      <th>Date</th>\n",
              "      <th></th>\n",
              "      <th></th>\n",
              "      <th></th>\n",
              "      <th></th>\n",
              "      <th></th>\n",
              "    </tr>\n",
              "  </thead>\n",
              "  <tbody>\n",
              "    <tr>\n",
              "      <th>2012-01-03</th>\n",
              "      <td>325.25</td>\n",
              "      <td>332.83</td>\n",
              "      <td>324.97</td>\n",
              "      <td>663.59</td>\n",
              "      <td>7,380,500</td>\n",
              "    </tr>\n",
              "    <tr>\n",
              "      <th>2012-01-04</th>\n",
              "      <td>331.27</td>\n",
              "      <td>333.87</td>\n",
              "      <td>329.08</td>\n",
              "      <td>666.45</td>\n",
              "      <td>5,749,400</td>\n",
              "    </tr>\n",
              "    <tr>\n",
              "      <th>2012-01-05</th>\n",
              "      <td>329.83</td>\n",
              "      <td>330.75</td>\n",
              "      <td>326.89</td>\n",
              "      <td>657.21</td>\n",
              "      <td>6,590,300</td>\n",
              "    </tr>\n",
              "    <tr>\n",
              "      <th>2012-01-06</th>\n",
              "      <td>328.34</td>\n",
              "      <td>328.77</td>\n",
              "      <td>323.68</td>\n",
              "      <td>648.24</td>\n",
              "      <td>5,405,900</td>\n",
              "    </tr>\n",
              "    <tr>\n",
              "      <th>2012-01-09</th>\n",
              "      <td>322.04</td>\n",
              "      <td>322.29</td>\n",
              "      <td>309.46</td>\n",
              "      <td>620.76</td>\n",
              "      <td>11,688,800</td>\n",
              "    </tr>\n",
              "  </tbody>\n",
              "</table>\n",
              "</div>\n",
              "      <button class=\"colab-df-convert\" onclick=\"convertToInteractive('df-d0a82661-7333-4757-997e-fee9abaae151')\"\n",
              "              title=\"Convert this dataframe to an interactive table.\"\n",
              "              style=\"display:none;\">\n",
              "        \n",
              "  <svg xmlns=\"http://www.w3.org/2000/svg\" height=\"24px\"viewBox=\"0 0 24 24\"\n",
              "       width=\"24px\">\n",
              "    <path d=\"M0 0h24v24H0V0z\" fill=\"none\"/>\n",
              "    <path d=\"M18.56 5.44l.94 2.06.94-2.06 2.06-.94-2.06-.94-.94-2.06-.94 2.06-2.06.94zm-11 1L8.5 8.5l.94-2.06 2.06-.94-2.06-.94L8.5 2.5l-.94 2.06-2.06.94zm10 10l.94 2.06.94-2.06 2.06-.94-2.06-.94-.94-2.06-.94 2.06-2.06.94z\"/><path d=\"M17.41 7.96l-1.37-1.37c-.4-.4-.92-.59-1.43-.59-.52 0-1.04.2-1.43.59L10.3 9.45l-7.72 7.72c-.78.78-.78 2.05 0 2.83L4 21.41c.39.39.9.59 1.41.59.51 0 1.02-.2 1.41-.59l7.78-7.78 2.81-2.81c.8-.78.8-2.07 0-2.86zM5.41 20L4 18.59l7.72-7.72 1.47 1.35L5.41 20z\"/>\n",
              "  </svg>\n",
              "      </button>\n",
              "      \n",
              "  <style>\n",
              "    .colab-df-container {\n",
              "      display:flex;\n",
              "      flex-wrap:wrap;\n",
              "      gap: 12px;\n",
              "    }\n",
              "\n",
              "    .colab-df-convert {\n",
              "      background-color: #E8F0FE;\n",
              "      border: none;\n",
              "      border-radius: 50%;\n",
              "      cursor: pointer;\n",
              "      display: none;\n",
              "      fill: #1967D2;\n",
              "      height: 32px;\n",
              "      padding: 0 0 0 0;\n",
              "      width: 32px;\n",
              "    }\n",
              "\n",
              "    .colab-df-convert:hover {\n",
              "      background-color: #E2EBFA;\n",
              "      box-shadow: 0px 1px 2px rgba(60, 64, 67, 0.3), 0px 1px 3px 1px rgba(60, 64, 67, 0.15);\n",
              "      fill: #174EA6;\n",
              "    }\n",
              "\n",
              "    [theme=dark] .colab-df-convert {\n",
              "      background-color: #3B4455;\n",
              "      fill: #D2E3FC;\n",
              "    }\n",
              "\n",
              "    [theme=dark] .colab-df-convert:hover {\n",
              "      background-color: #434B5C;\n",
              "      box-shadow: 0px 1px 3px 1px rgba(0, 0, 0, 0.15);\n",
              "      filter: drop-shadow(0px 1px 2px rgba(0, 0, 0, 0.3));\n",
              "      fill: #FFFFFF;\n",
              "    }\n",
              "  </style>\n",
              "\n",
              "      <script>\n",
              "        const buttonEl =\n",
              "          document.querySelector('#df-d0a82661-7333-4757-997e-fee9abaae151 button.colab-df-convert');\n",
              "        buttonEl.style.display =\n",
              "          google.colab.kernel.accessAllowed ? 'block' : 'none';\n",
              "\n",
              "        async function convertToInteractive(key) {\n",
              "          const element = document.querySelector('#df-d0a82661-7333-4757-997e-fee9abaae151');\n",
              "          const dataTable =\n",
              "            await google.colab.kernel.invokeFunction('convertToInteractive',\n",
              "                                                     [key], {});\n",
              "          if (!dataTable) return;\n",
              "\n",
              "          const docLinkHtml = 'Like what you see? Visit the ' +\n",
              "            '<a target=\"_blank\" href=https://colab.research.google.com/notebooks/data_table.ipynb>data table notebook</a>'\n",
              "            + ' to learn more about interactive tables.';\n",
              "          element.innerHTML = '';\n",
              "          dataTable['output_type'] = 'display_data';\n",
              "          await google.colab.output.renderOutput(dataTable, element);\n",
              "          const docLink = document.createElement('div');\n",
              "          docLink.innerHTML = docLinkHtml;\n",
              "          element.appendChild(docLink);\n",
              "        }\n",
              "      </script>\n",
              "    </div>\n",
              "  </div>\n",
              "  "
            ]
          },
          "metadata": {},
          "execution_count": 6
        }
      ],
      "source": [
        "dataset.head()"
      ]
    },
    {
      "cell_type": "code",
      "execution_count": 7,
      "metadata": {
        "colab": {
          "base_uri": "https://localhost:8080/",
          "height": 206
        },
        "id": "_jIM9DtQbaK0",
        "outputId": "36080c3f-0a2e-4bb5-b985-f6e58e1a0174"
      },
      "outputs": [
        {
          "output_type": "execute_result",
          "data": {
            "text/plain": [
              "        Persentase Missing Value Dataset (%)\n",
              "Open                                     0.0\n",
              "High                                     0.0\n",
              "Low                                      0.0\n",
              "Close                                    0.0\n",
              "Volume                                   0.0"
            ],
            "text/html": [
              "\n",
              "  <div id=\"df-b3635dda-2c73-437c-b097-54e0c820aed8\">\n",
              "    <div class=\"colab-df-container\">\n",
              "      <div>\n",
              "<style scoped>\n",
              "    .dataframe tbody tr th:only-of-type {\n",
              "        vertical-align: middle;\n",
              "    }\n",
              "\n",
              "    .dataframe tbody tr th {\n",
              "        vertical-align: top;\n",
              "    }\n",
              "\n",
              "    .dataframe thead th {\n",
              "        text-align: right;\n",
              "    }\n",
              "</style>\n",
              "<table border=\"1\" class=\"dataframe\">\n",
              "  <thead>\n",
              "    <tr style=\"text-align: right;\">\n",
              "      <th></th>\n",
              "      <th>Persentase Missing Value Dataset (%)</th>\n",
              "    </tr>\n",
              "  </thead>\n",
              "  <tbody>\n",
              "    <tr>\n",
              "      <th>Open</th>\n",
              "      <td>0.0</td>\n",
              "    </tr>\n",
              "    <tr>\n",
              "      <th>High</th>\n",
              "      <td>0.0</td>\n",
              "    </tr>\n",
              "    <tr>\n",
              "      <th>Low</th>\n",
              "      <td>0.0</td>\n",
              "    </tr>\n",
              "    <tr>\n",
              "      <th>Close</th>\n",
              "      <td>0.0</td>\n",
              "    </tr>\n",
              "    <tr>\n",
              "      <th>Volume</th>\n",
              "      <td>0.0</td>\n",
              "    </tr>\n",
              "  </tbody>\n",
              "</table>\n",
              "</div>\n",
              "      <button class=\"colab-df-convert\" onclick=\"convertToInteractive('df-b3635dda-2c73-437c-b097-54e0c820aed8')\"\n",
              "              title=\"Convert this dataframe to an interactive table.\"\n",
              "              style=\"display:none;\">\n",
              "        \n",
              "  <svg xmlns=\"http://www.w3.org/2000/svg\" height=\"24px\"viewBox=\"0 0 24 24\"\n",
              "       width=\"24px\">\n",
              "    <path d=\"M0 0h24v24H0V0z\" fill=\"none\"/>\n",
              "    <path d=\"M18.56 5.44l.94 2.06.94-2.06 2.06-.94-2.06-.94-.94-2.06-.94 2.06-2.06.94zm-11 1L8.5 8.5l.94-2.06 2.06-.94-2.06-.94L8.5 2.5l-.94 2.06-2.06.94zm10 10l.94 2.06.94-2.06 2.06-.94-2.06-.94-.94-2.06-.94 2.06-2.06.94z\"/><path d=\"M17.41 7.96l-1.37-1.37c-.4-.4-.92-.59-1.43-.59-.52 0-1.04.2-1.43.59L10.3 9.45l-7.72 7.72c-.78.78-.78 2.05 0 2.83L4 21.41c.39.39.9.59 1.41.59.51 0 1.02-.2 1.41-.59l7.78-7.78 2.81-2.81c.8-.78.8-2.07 0-2.86zM5.41 20L4 18.59l7.72-7.72 1.47 1.35L5.41 20z\"/>\n",
              "  </svg>\n",
              "      </button>\n",
              "      \n",
              "  <style>\n",
              "    .colab-df-container {\n",
              "      display:flex;\n",
              "      flex-wrap:wrap;\n",
              "      gap: 12px;\n",
              "    }\n",
              "\n",
              "    .colab-df-convert {\n",
              "      background-color: #E8F0FE;\n",
              "      border: none;\n",
              "      border-radius: 50%;\n",
              "      cursor: pointer;\n",
              "      display: none;\n",
              "      fill: #1967D2;\n",
              "      height: 32px;\n",
              "      padding: 0 0 0 0;\n",
              "      width: 32px;\n",
              "    }\n",
              "\n",
              "    .colab-df-convert:hover {\n",
              "      background-color: #E2EBFA;\n",
              "      box-shadow: 0px 1px 2px rgba(60, 64, 67, 0.3), 0px 1px 3px 1px rgba(60, 64, 67, 0.15);\n",
              "      fill: #174EA6;\n",
              "    }\n",
              "\n",
              "    [theme=dark] .colab-df-convert {\n",
              "      background-color: #3B4455;\n",
              "      fill: #D2E3FC;\n",
              "    }\n",
              "\n",
              "    [theme=dark] .colab-df-convert:hover {\n",
              "      background-color: #434B5C;\n",
              "      box-shadow: 0px 1px 3px 1px rgba(0, 0, 0, 0.15);\n",
              "      filter: drop-shadow(0px 1px 2px rgba(0, 0, 0, 0.3));\n",
              "      fill: #FFFFFF;\n",
              "    }\n",
              "  </style>\n",
              "\n",
              "      <script>\n",
              "        const buttonEl =\n",
              "          document.querySelector('#df-b3635dda-2c73-437c-b097-54e0c820aed8 button.colab-df-convert');\n",
              "        buttonEl.style.display =\n",
              "          google.colab.kernel.accessAllowed ? 'block' : 'none';\n",
              "\n",
              "        async function convertToInteractive(key) {\n",
              "          const element = document.querySelector('#df-b3635dda-2c73-437c-b097-54e0c820aed8');\n",
              "          const dataTable =\n",
              "            await google.colab.kernel.invokeFunction('convertToInteractive',\n",
              "                                                     [key], {});\n",
              "          if (!dataTable) return;\n",
              "\n",
              "          const docLinkHtml = 'Like what you see? Visit the ' +\n",
              "            '<a target=\"_blank\" href=https://colab.research.google.com/notebooks/data_table.ipynb>data table notebook</a>'\n",
              "            + ' to learn more about interactive tables.';\n",
              "          element.innerHTML = '';\n",
              "          dataTable['output_type'] = 'display_data';\n",
              "          await google.colab.output.renderOutput(dataTable, element);\n",
              "          const docLink = document.createElement('div');\n",
              "          docLink.innerHTML = docLinkHtml;\n",
              "          element.appendChild(docLink);\n",
              "        }\n",
              "      </script>\n",
              "    </div>\n",
              "  </div>\n",
              "  "
            ]
          },
          "metadata": {},
          "execution_count": 7
        }
      ],
      "source": [
        "#Menghitung presentase missing values dari masing-masing variabel\n",
        "(dataset.isnull().sum()/len(dataset)*100).to_frame('Persentase Missing Value Dataset (%)')"
      ]
    },
    {
      "cell_type": "code",
      "execution_count": null,
      "metadata": {
        "colab": {
          "base_uri": "https://localhost:8080/"
        },
        "id": "UXDqjQJ8baK0",
        "outputId": "29e17984-1289-43e6-ac8a-8eae5e575b7b"
      },
      "outputs": [
        {
          "name": "stdout",
          "output_type": "stream",
          "text": [
            "<class 'pandas.core.frame.DataFrame'>\n",
            "DatetimeIndex: 1258 entries, 2012-01-03 to 2016-12-30\n",
            "Data columns (total 5 columns):\n",
            " #   Column  Non-Null Count  Dtype  \n",
            "---  ------  --------------  -----  \n",
            " 0   Open    1258 non-null   float64\n",
            " 1   High    1258 non-null   float64\n",
            " 2   Low     1258 non-null   float64\n",
            " 3   Close   1258 non-null   object \n",
            " 4   Volume  1258 non-null   object \n",
            "dtypes: float64(3), object(2)\n",
            "memory usage: 59.0+ KB\n"
          ]
        }
      ],
      "source": [
        "dataset.info()"
      ]
    },
    {
      "cell_type": "code",
      "execution_count": null,
      "metadata": {
        "colab": {
          "base_uri": "https://localhost:8080/"
        },
        "id": "zZJcCtJNbaK1",
        "outputId": "5695901d-da5e-4f68-8075-079b0f47789f"
      },
      "outputs": [
        {
          "name": "stdout",
          "output_type": "stream",
          "text": [
            "Ukuran dataset: (1258, 5)\n"
          ]
        }
      ],
      "source": [
        "print('Ukuran dataset:', dataset.shape)"
      ]
    },
    {
      "cell_type": "code",
      "execution_count": 8,
      "metadata": {
        "id": "3hRFu3jobaK3"
      },
      "outputs": [],
      "source": [
        "# convert column \"a\" of a DataFrame\n",
        "dataset[\"Close\"] = dataset[\"Close\"].str.replace(',', '').astype(float)"
      ]
    },
    {
      "cell_type": "code",
      "execution_count": 9,
      "metadata": {
        "id": "SmGIl9ANbaK4"
      },
      "outputs": [],
      "source": [
        "dataset[\"Volume\"] = dataset[\"Volume\"].str.replace(',', '').astype(float)"
      ]
    },
    {
      "cell_type": "code",
      "execution_count": 10,
      "metadata": {
        "colab": {
          "base_uri": "https://localhost:8080/",
          "height": 270
        },
        "id": "iE5EpdcxbaK1",
        "outputId": "e24c4b80-9824-4930-f17b-4e030de0f58b"
      },
      "outputs": [
        {
          "output_type": "execute_result",
          "data": {
            "text/plain": [
              "         count          mean           std      min          25%          50%  \\\n",
              "Open    1258.0  5.337098e+02  1.519044e+02   279.12      404.115      537.470   \n",
              "High    1258.0  5.378802e+02  1.530088e+02   281.21      406.765      540.750   \n",
              "Low     1258.0  5.290074e+02  1.505528e+02   277.22      401.765      532.990   \n",
              "Close   1258.0  7.126697e+02  1.647526e+02   491.20      576.740      695.675   \n",
              "Volume  1258.0  3.158107e+06  2.273726e+06  7900.00  1621700.000  2566150.000   \n",
              "\n",
              "                 75%          max  \n",
              "Open    6.549225e+02       816.68  \n",
              "High    6.625875e+02       816.68  \n",
              "Low     6.448000e+02       805.14  \n",
              "Close   7.821050e+02      1216.83  \n",
              "Volume  4.122500e+06  24977900.00  "
            ],
            "text/html": [
              "\n",
              "  <div id=\"df-bd22f63e-3470-44d5-bedb-22331c5669a5\">\n",
              "    <div class=\"colab-df-container\">\n",
              "      <div>\n",
              "<style scoped>\n",
              "    .dataframe tbody tr th:only-of-type {\n",
              "        vertical-align: middle;\n",
              "    }\n",
              "\n",
              "    .dataframe tbody tr th {\n",
              "        vertical-align: top;\n",
              "    }\n",
              "\n",
              "    .dataframe thead th {\n",
              "        text-align: right;\n",
              "    }\n",
              "</style>\n",
              "<table border=\"1\" class=\"dataframe\">\n",
              "  <thead>\n",
              "    <tr style=\"text-align: right;\">\n",
              "      <th></th>\n",
              "      <th>count</th>\n",
              "      <th>mean</th>\n",
              "      <th>std</th>\n",
              "      <th>min</th>\n",
              "      <th>25%</th>\n",
              "      <th>50%</th>\n",
              "      <th>75%</th>\n",
              "      <th>max</th>\n",
              "    </tr>\n",
              "  </thead>\n",
              "  <tbody>\n",
              "    <tr>\n",
              "      <th>Open</th>\n",
              "      <td>1258.0</td>\n",
              "      <td>5.337098e+02</td>\n",
              "      <td>1.519044e+02</td>\n",
              "      <td>279.12</td>\n",
              "      <td>404.115</td>\n",
              "      <td>537.470</td>\n",
              "      <td>6.549225e+02</td>\n",
              "      <td>816.68</td>\n",
              "    </tr>\n",
              "    <tr>\n",
              "      <th>High</th>\n",
              "      <td>1258.0</td>\n",
              "      <td>5.378802e+02</td>\n",
              "      <td>1.530088e+02</td>\n",
              "      <td>281.21</td>\n",
              "      <td>406.765</td>\n",
              "      <td>540.750</td>\n",
              "      <td>6.625875e+02</td>\n",
              "      <td>816.68</td>\n",
              "    </tr>\n",
              "    <tr>\n",
              "      <th>Low</th>\n",
              "      <td>1258.0</td>\n",
              "      <td>5.290074e+02</td>\n",
              "      <td>1.505528e+02</td>\n",
              "      <td>277.22</td>\n",
              "      <td>401.765</td>\n",
              "      <td>532.990</td>\n",
              "      <td>6.448000e+02</td>\n",
              "      <td>805.14</td>\n",
              "    </tr>\n",
              "    <tr>\n",
              "      <th>Close</th>\n",
              "      <td>1258.0</td>\n",
              "      <td>7.126697e+02</td>\n",
              "      <td>1.647526e+02</td>\n",
              "      <td>491.20</td>\n",
              "      <td>576.740</td>\n",
              "      <td>695.675</td>\n",
              "      <td>7.821050e+02</td>\n",
              "      <td>1216.83</td>\n",
              "    </tr>\n",
              "    <tr>\n",
              "      <th>Volume</th>\n",
              "      <td>1258.0</td>\n",
              "      <td>3.158107e+06</td>\n",
              "      <td>2.273726e+06</td>\n",
              "      <td>7900.00</td>\n",
              "      <td>1621700.000</td>\n",
              "      <td>2566150.000</td>\n",
              "      <td>4.122500e+06</td>\n",
              "      <td>24977900.00</td>\n",
              "    </tr>\n",
              "  </tbody>\n",
              "</table>\n",
              "</div>\n",
              "      <button class=\"colab-df-convert\" onclick=\"convertToInteractive('df-bd22f63e-3470-44d5-bedb-22331c5669a5')\"\n",
              "              title=\"Convert this dataframe to an interactive table.\"\n",
              "              style=\"display:none;\">\n",
              "        \n",
              "  <svg xmlns=\"http://www.w3.org/2000/svg\" height=\"24px\"viewBox=\"0 0 24 24\"\n",
              "       width=\"24px\">\n",
              "    <path d=\"M0 0h24v24H0V0z\" fill=\"none\"/>\n",
              "    <path d=\"M18.56 5.44l.94 2.06.94-2.06 2.06-.94-2.06-.94-.94-2.06-.94 2.06-2.06.94zm-11 1L8.5 8.5l.94-2.06 2.06-.94-2.06-.94L8.5 2.5l-.94 2.06-2.06.94zm10 10l.94 2.06.94-2.06 2.06-.94-2.06-.94-.94-2.06-.94 2.06-2.06.94z\"/><path d=\"M17.41 7.96l-1.37-1.37c-.4-.4-.92-.59-1.43-.59-.52 0-1.04.2-1.43.59L10.3 9.45l-7.72 7.72c-.78.78-.78 2.05 0 2.83L4 21.41c.39.39.9.59 1.41.59.51 0 1.02-.2 1.41-.59l7.78-7.78 2.81-2.81c.8-.78.8-2.07 0-2.86zM5.41 20L4 18.59l7.72-7.72 1.47 1.35L5.41 20z\"/>\n",
              "  </svg>\n",
              "      </button>\n",
              "      \n",
              "  <style>\n",
              "    .colab-df-container {\n",
              "      display:flex;\n",
              "      flex-wrap:wrap;\n",
              "      gap: 12px;\n",
              "    }\n",
              "\n",
              "    .colab-df-convert {\n",
              "      background-color: #E8F0FE;\n",
              "      border: none;\n",
              "      border-radius: 50%;\n",
              "      cursor: pointer;\n",
              "      display: none;\n",
              "      fill: #1967D2;\n",
              "      height: 32px;\n",
              "      padding: 0 0 0 0;\n",
              "      width: 32px;\n",
              "    }\n",
              "\n",
              "    .colab-df-convert:hover {\n",
              "      background-color: #E2EBFA;\n",
              "      box-shadow: 0px 1px 2px rgba(60, 64, 67, 0.3), 0px 1px 3px 1px rgba(60, 64, 67, 0.15);\n",
              "      fill: #174EA6;\n",
              "    }\n",
              "\n",
              "    [theme=dark] .colab-df-convert {\n",
              "      background-color: #3B4455;\n",
              "      fill: #D2E3FC;\n",
              "    }\n",
              "\n",
              "    [theme=dark] .colab-df-convert:hover {\n",
              "      background-color: #434B5C;\n",
              "      box-shadow: 0px 1px 3px 1px rgba(0, 0, 0, 0.15);\n",
              "      filter: drop-shadow(0px 1px 2px rgba(0, 0, 0, 0.3));\n",
              "      fill: #FFFFFF;\n",
              "    }\n",
              "  </style>\n",
              "\n",
              "      <script>\n",
              "        const buttonEl =\n",
              "          document.querySelector('#df-bd22f63e-3470-44d5-bedb-22331c5669a5 button.colab-df-convert');\n",
              "        buttonEl.style.display =\n",
              "          google.colab.kernel.accessAllowed ? 'block' : 'none';\n",
              "\n",
              "        async function convertToInteractive(key) {\n",
              "          const element = document.querySelector('#df-bd22f63e-3470-44d5-bedb-22331c5669a5');\n",
              "          const dataTable =\n",
              "            await google.colab.kernel.invokeFunction('convertToInteractive',\n",
              "                                                     [key], {});\n",
              "          if (!dataTable) return;\n",
              "\n",
              "          const docLinkHtml = 'Like what you see? Visit the ' +\n",
              "            '<a target=\"_blank\" href=https://colab.research.google.com/notebooks/data_table.ipynb>data table notebook</a>'\n",
              "            + ' to learn more about interactive tables.';\n",
              "          element.innerHTML = '';\n",
              "          dataTable['output_type'] = 'display_data';\n",
              "          await google.colab.output.renderOutput(dataTable, element);\n",
              "          const docLink = document.createElement('div');\n",
              "          docLink.innerHTML = docLinkHtml;\n",
              "          element.appendChild(docLink);\n",
              "        }\n",
              "      </script>\n",
              "    </div>\n",
              "  </div>\n",
              "  "
            ]
          },
          "metadata": {},
          "execution_count": 10
        }
      ],
      "source": [
        "dataset.describe().transpose()"
      ]
    },
    {
      "cell_type": "code",
      "execution_count": 11,
      "metadata": {
        "colab": {
          "base_uri": "https://localhost:8080/",
          "height": 432
        },
        "id": "AyyU3oclq1_t",
        "outputId": "972b8551-b10f-4225-eefd-6258823e8e02"
      },
      "outputs": [
        {
          "output_type": "display_data",
          "data": {
            "text/plain": [
              "<Figure size 648x504 with 2 Axes>"
            ],
            "image/png": "[encoded data removed]"
          },
          "metadata": {
            "needs_background": "light"
          }
        }
      ],
      "source": [
        "#Correlation check masing-masing kolom\n",
        "plt.figure(figsize=(9,7))\n",
        "sns.heatmap(dataset.corr(),annot=True,cmap=\"coolwarm\")\n",
        "plt.show()"
      ]
    },
    {
      "cell_type": "markdown",
      "metadata": {
        "id": "kFgWjQfyb6QO"
      },
      "source": [
        "#Visualize"
      ]
    },
    {
      "cell_type": "code",
      "execution_count": null,
      "metadata": {
        "colab": {
          "base_uri": "https://localhost:8080/",
          "height": 385
        },
        "id": "_oHijB40baK3",
        "outputId": "d7b86877-c889-451f-a4c6-a62edeb3cda7"
      },
      "outputs": [
        {
          "data": {
            "text/plain": [
              "<matplotlib.axes._subplots.AxesSubplot at 0x7fe4c41a1390>"
            ]
          },
          "execution_count": 16,
          "metadata": {},
          "output_type": "execute_result"
        },
        {
          "data": {
            "image/png": "[encoded data removed]",
            "text/plain": [
              "<Figure size 1152x432 with 1 Axes>"
            ]
          },
          "metadata": {},
          "output_type": "display_data"
        }
      ],
      "source": [
        "dataset['Open'].plot(figsize=(16,6))"
      ]
    },
    {
      "cell_type": "markdown",
      "metadata": {
        "id": "nA8sTkZJtBvF"
      },
      "source": [
        "**What is a rolling average?**\n",
        "\n",
        " https://www.portent.com/blog/analytics/rolling-averages-math-moron.htm#:~:text=What%E2%80%99s%20a%20Rolling%20Average%3F%20A%20simple%20rolling%20average,to%20you%2C%20but%20to%20me%20it%E2%80%99s%20total%20mathinese."
      ]
    },
    {
      "cell_type": "code",
      "execution_count": null,
      "metadata": {
        "colab": {
          "base_uri": "https://localhost:8080/",
          "height": 708
        },
        "id": "3GRnmEB0baK6",
        "outputId": "ff9435ca-5f46-4b9d-ccd8-9d5cc7fcdf27"
      },
      "outputs": [
        {
          "data": {
            "text/html": [
              "\n",
              "  <div id=\"df-e2f03d04-4228-4fe2-a7f6-c8270ab3de19\">\n",
              "    <div class=\"colab-df-container\">\n",
              "      <div>\n",
              "<style scoped>\n",
              "    .dataframe tbody tr th:only-of-type {\n",
              "        vertical-align: middle;\n",
              "    }\n",
              "\n",
              "    .dataframe tbody tr th {\n",
              "        vertical-align: top;\n",
              "    }\n",
              "\n",
              "    .dataframe thead th {\n",
              "        text-align: right;\n",
              "    }\n",
              "</style>\n",
              "<table border=\"1\" class=\"dataframe\">\n",
              "  <thead>\n",
              "    <tr style=\"text-align: right;\">\n",
              "      <th></th>\n",
              "      <th>Open</th>\n",
              "      <th>High</th>\n",
              "      <th>Low</th>\n",
              "      <th>Close</th>\n",
              "      <th>Volume</th>\n",
              "    </tr>\n",
              "    <tr>\n",
              "      <th>Date</th>\n",
              "      <th></th>\n",
              "      <th></th>\n",
              "      <th></th>\n",
              "      <th></th>\n",
              "      <th></th>\n",
              "    </tr>\n",
              "  </thead>\n",
              "  <tbody>\n",
              "    <tr>\n",
              "      <th>2012-01-03</th>\n",
              "      <td>NaN</td>\n",
              "      <td>NaN</td>\n",
              "      <td>NaN</td>\n",
              "      <td>NaN</td>\n",
              "      <td>NaN</td>\n",
              "    </tr>\n",
              "    <tr>\n",
              "      <th>2012-01-04</th>\n",
              "      <td>NaN</td>\n",
              "      <td>NaN</td>\n",
              "      <td>NaN</td>\n",
              "      <td>NaN</td>\n",
              "      <td>NaN</td>\n",
              "    </tr>\n",
              "    <tr>\n",
              "      <th>2012-01-05</th>\n",
              "      <td>NaN</td>\n",
              "      <td>NaN</td>\n",
              "      <td>NaN</td>\n",
              "      <td>NaN</td>\n",
              "      <td>NaN</td>\n",
              "    </tr>\n",
              "    <tr>\n",
              "      <th>2012-01-06</th>\n",
              "      <td>NaN</td>\n",
              "      <td>NaN</td>\n",
              "      <td>NaN</td>\n",
              "      <td>NaN</td>\n",
              "      <td>NaN</td>\n",
              "    </tr>\n",
              "    <tr>\n",
              "      <th>2012-01-09</th>\n",
              "      <td>NaN</td>\n",
              "      <td>NaN</td>\n",
              "      <td>NaN</td>\n",
              "      <td>NaN</td>\n",
              "      <td>NaN</td>\n",
              "    </tr>\n",
              "    <tr>\n",
              "      <th>2012-01-10</th>\n",
              "      <td>NaN</td>\n",
              "      <td>NaN</td>\n",
              "      <td>NaN</td>\n",
              "      <td>NaN</td>\n",
              "      <td>NaN</td>\n",
              "    </tr>\n",
              "    <tr>\n",
              "      <th>2012-01-11</th>\n",
              "      <td>323.002857</td>\n",
              "      <td>325.392857</td>\n",
              "      <td>318.682857</td>\n",
              "      <td>643.132857</td>\n",
              "      <td>7.208100e+06</td>\n",
              "    </tr>\n",
              "    <tr>\n",
              "      <th>2012-01-12</th>\n",
              "      <td>321.457143</td>\n",
              "      <td>322.882857</td>\n",
              "      <td>316.841429</td>\n",
              "      <td>638.037143</td>\n",
              "      <td>6.691514e+06</td>\n",
              "    </tr>\n",
              "    <tr>\n",
              "      <th>2012-01-13</th>\n",
              "      <td>318.698571</td>\n",
              "      <td>319.801429</td>\n",
              "      <td>314.025714</td>\n",
              "      <td>631.870000</td>\n",
              "      <td>6.531857e+06</td>\n",
              "    </tr>\n",
              "    <tr>\n",
              "      <th>2012-01-17</th>\n",
              "      <td>316.552857</td>\n",
              "      <td>317.524286</td>\n",
              "      <td>311.851429</td>\n",
              "      <td>627.534286</td>\n",
              "      <td>6.137929e+06</td>\n",
              "    </tr>\n",
              "    <tr>\n",
              "      <th>2012-01-18</th>\n",
              "      <td>314.238571</td>\n",
              "      <td>315.674286</td>\n",
              "      <td>309.882857</td>\n",
              "      <td>625.097143</td>\n",
              "      <td>6.157657e+06</td>\n",
              "    </tr>\n",
              "    <tr>\n",
              "      <th>2012-01-19</th>\n",
              "      <td>313.847143</td>\n",
              "      <td>315.247143</td>\n",
              "      <td>310.610000</td>\n",
              "      <td>627.534286</td>\n",
              "      <td>6.296086e+06</td>\n",
              "    </tr>\n",
              "    <tr>\n",
              "      <th>2012-01-20</th>\n",
              "      <td>311.055714</td>\n",
              "      <td>312.201429</td>\n",
              "      <td>308.104286</td>\n",
              "      <td>622.242857</td>\n",
              "      <td>8.068629e+06</td>\n",
              "    </tr>\n",
              "    <tr>\n",
              "      <th>2012-01-23</th>\n",
              "      <td>308.387143</td>\n",
              "      <td>309.302857</td>\n",
              "      <td>305.402857</td>\n",
              "      <td>616.481429</td>\n",
              "      <td>8.359129e+06</td>\n",
              "    </tr>\n",
              "    <tr>\n",
              "      <th>2012-01-24</th>\n",
              "      <td>305.192857</td>\n",
              "      <td>306.085714</td>\n",
              "      <td>301.951429</td>\n",
              "      <td>609.541429</td>\n",
              "      <td>8.697700e+06</td>\n",
              "    </tr>\n",
              "    <tr>\n",
              "      <th>2012-01-25</th>\n",
              "      <td>301.724286</td>\n",
              "      <td>302.652857</td>\n",
              "      <td>298.060000</td>\n",
              "      <td>601.634286</td>\n",
              "      <td>9.466400e+06</td>\n",
              "    </tr>\n",
              "    <tr>\n",
              "      <th>2012-01-26</th>\n",
              "      <td>297.454286</td>\n",
              "      <td>298.561429</td>\n",
              "      <td>293.710000</td>\n",
              "      <td>593.017143</td>\n",
              "      <td>9.844071e+06</td>\n",
              "    </tr>\n",
              "    <tr>\n",
              "      <th>2012-01-27</th>\n",
              "      <td>293.480000</td>\n",
              "      <td>294.741429</td>\n",
              "      <td>289.952857</td>\n",
              "      <td>585.475714</td>\n",
              "      <td>1.008950e+07</td>\n",
              "    </tr>\n",
              "    <tr>\n",
              "      <th>2012-01-30</th>\n",
              "      <td>289.001429</td>\n",
              "      <td>290.401429</td>\n",
              "      <td>285.821429</td>\n",
              "      <td>576.660000</td>\n",
              "      <td>8.949586e+06</td>\n",
              "    </tr>\n",
              "    <tr>\n",
              "      <th>2012-01-31</th>\n",
              "      <td>288.465714</td>\n",
              "      <td>289.902857</td>\n",
              "      <td>285.355714</td>\n",
              "      <td>575.821429</td>\n",
              "      <td>6.530857e+06</td>\n",
              "    </tr>\n",
              "  </tbody>\n",
              "</table>\n",
              "</div>\n",
              "      <button class=\"colab-df-convert\" onclick=\"convertToInteractive('df-e2f03d04-4228-4fe2-a7f6-c8270ab3de19')\"\n",
              "              title=\"Convert this dataframe to an interactive table.\"\n",
              "              style=\"display:none;\">\n",
              "        \n",
              "  <svg xmlns=\"http://www.w3.org/2000/svg\" height=\"24px\"viewBox=\"0 0 24 24\"\n",
              "       width=\"24px\">\n",
              "    <path d=\"M0 0h24v24H0V0z\" fill=\"none\"/>\n",
              "    <path d=\"M18.56 5.44l.94 2.06.94-2.06 2.06-.94-2.06-.94-.94-2.06-.94 2.06-2.06.94zm-11 1L8.5 8.5l.94-2.06 2.06-.94-2.06-.94L8.5 2.5l-.94 2.06-2.06.94zm10 10l.94 2.06.94-2.06 2.06-.94-2.06-.94-.94-2.06-.94 2.06-2.06.94z\"/><path d=\"M17.41 7.96l-1.37-1.37c-.4-.4-.92-.59-1.43-.59-.52 0-1.04.2-1.43.59L10.3 9.45l-7.72 7.72c-.78.78-.78 2.05 0 2.83L4 21.41c.39.39.9.59 1.41.59.51 0 1.02-.2 1.41-.59l7.78-7.78 2.81-2.81c.8-.78.8-2.07 0-2.86zM5.41 20L4 18.59l7.72-7.72 1.47 1.35L5.41 20z\"/>\n",
              "  </svg>\n",
              "      </button>\n",
              "      \n",
              "  <style>\n",
              "    .colab-df-container {\n",
              "      display:flex;\n",
              "      flex-wrap:wrap;\n",
              "      gap: 12px;\n",
              "    }\n",
              "\n",
              "    .colab-df-convert {\n",
              "      background-color: #E8F0FE;\n",
              "      border: none;\n",
              "      border-radius: 50%;\n",
              "      cursor: pointer;\n",
              "      display: none;\n",
              "      fill: #1967D2;\n",
              "      height: 32px;\n",
              "      padding: 0 0 0 0;\n",
              "      width: 32px;\n",
              "    }\n",
              "\n",
              "    .colab-df-convert:hover {\n",
              "      background-color: #E2EBFA;\n",
              "      box-shadow: 0px 1px 2px rgba(60, 64, 67, 0.3), 0px 1px 3px 1px rgba(60, 64, 67, 0.15);\n",
              "      fill: #174EA6;\n",
              "    }\n",
              "\n",
              "    [theme=dark] .colab-df-convert {\n",
              "      background-color: #3B4455;\n",
              "      fill: #D2E3FC;\n",
              "    }\n",
              "\n",
              "    [theme=dark] .colab-df-convert:hover {\n",
              "      background-color: #434B5C;\n",
              "      box-shadow: 0px 1px 3px 1px rgba(0, 0, 0, 0.15);\n",
              "      filter: drop-shadow(0px 1px 2px rgba(0, 0, 0, 0.3));\n",
              "      fill: #FFFFFF;\n",
              "    }\n",
              "  </style>\n",
              "\n",
              "      <script>\n",
              "        const buttonEl =\n",
              "          document.querySelector('#df-e2f03d04-4228-4fe2-a7f6-c8270ab3de19 button.colab-df-convert');\n",
              "        buttonEl.style.display =\n",
              "          google.colab.kernel.accessAllowed ? 'block' : 'none';\n",
              "\n",
              "        async function convertToInteractive(key) {\n",
              "          const element = document.querySelector('#df-e2f03d04-4228-4fe2-a7f6-c8270ab3de19');\n",
              "          const dataTable =\n",
              "            await google.colab.kernel.invokeFunction('convertToInteractive',\n",
              "                                                     [key], {});\n",
              "          if (!dataTable) return;\n",
              "\n",
              "          const docLinkHtml = 'Like what you see? Visit the ' +\n",
              "            '<a target=\"_blank\" href=https://colab.research.google.com/notebooks/data_table.ipynb>data table notebook</a>'\n",
              "            + ' to learn more about interactive tables.';\n",
              "          element.innerHTML = '';\n",
              "          dataTable['output_type'] = 'display_data';\n",
              "          await google.colab.output.renderOutput(dataTable, element);\n",
              "          const docLink = document.createElement('div');\n",
              "          docLink.innerHTML = docLinkHtml;\n",
              "          element.appendChild(docLink);\n",
              "        }\n",
              "      </script>\n",
              "    </div>\n",
              "  </div>\n",
              "  "
            ],
            "text/plain": [
              "                  Open        High         Low       Close        Volume\n",
              "Date                                                                    \n",
              "2012-01-03         NaN         NaN         NaN         NaN           NaN\n",
              "2012-01-04         NaN         NaN         NaN         NaN           NaN\n",
              "2012-01-05         NaN         NaN         NaN         NaN           NaN\n",
              "2012-01-06         NaN         NaN         NaN         NaN           NaN\n",
              "2012-01-09         NaN         NaN         NaN         NaN           NaN\n",
              "2012-01-10         NaN         NaN         NaN         NaN           NaN\n",
              "2012-01-11  323.002857  325.392857  318.682857  643.132857  7.208100e+06\n",
              "2012-01-12  321.457143  322.882857  316.841429  638.037143  6.691514e+06\n",
              "2012-01-13  318.698571  319.801429  314.025714  631.870000  6.531857e+06\n",
              "2012-01-17  316.552857  317.524286  311.851429  627.534286  6.137929e+06\n",
              "2012-01-18  314.238571  315.674286  309.882857  625.097143  6.157657e+06\n",
              "2012-01-19  313.847143  315.247143  310.610000  627.534286  6.296086e+06\n",
              "2012-01-20  311.055714  312.201429  308.104286  622.242857  8.068629e+06\n",
              "2012-01-23  308.387143  309.302857  305.402857  616.481429  8.359129e+06\n",
              "2012-01-24  305.192857  306.085714  301.951429  609.541429  8.697700e+06\n",
              "2012-01-25  301.724286  302.652857  298.060000  601.634286  9.466400e+06\n",
              "2012-01-26  297.454286  298.561429  293.710000  593.017143  9.844071e+06\n",
              "2012-01-27  293.480000  294.741429  289.952857  585.475714  1.008950e+07\n",
              "2012-01-30  289.001429  290.401429  285.821429  576.660000  8.949586e+06\n",
              "2012-01-31  288.465714  289.902857  285.355714  575.821429  6.530857e+06"
            ]
          },
          "execution_count": 17,
          "metadata": {},
          "output_type": "execute_result"
        }
      ],
      "source": [
        "# 7 day rolling mean\n",
        "dataset.rolling(7).mean().head(20)"
      ]
    },
    {
      "cell_type": "code",
      "execution_count": null,
      "metadata": {
        "colab": {
          "base_uri": "https://localhost:8080/",
          "height": 385
        },
        "id": "xPgfc4FxbaK6",
        "outputId": "676a20f7-760c-4d0e-96c5-9f292f23f462"
      },
      "outputs": [
        {
          "data": {
            "text/plain": [
              "<matplotlib.axes._subplots.AxesSubplot at 0x7fe4c6a8d3d0>"
            ]
          },
          "execution_count": 18,
          "metadata": {},
          "output_type": "execute_result"
        },
        {
          "data": {
            "image/png": "[encoded data removed]",
            "text/plain": [
              "<Figure size 1152x432 with 1 Axes>"
            ]
          },
          "metadata": {},
          "output_type": "display_data"
        }
      ],
      "source": [
        "dataset['Open'].plot(figsize=(16,6))\n",
        "dataset.rolling(window=30).mean()['Close'].plot()"
      ]
    },
    {
      "cell_type": "code",
      "execution_count": null,
      "metadata": {
        "colab": {
          "base_uri": "https://localhost:8080/",
          "height": 385
        },
        "id": "Wqy-0jTkbaK7",
        "outputId": "b9f4826f-588c-4c44-9b90-e632c3cb2e41"
      },
      "outputs": [
        {
          "data": {
            "text/plain": [
              "<matplotlib.axes._subplots.AxesSubplot at 0x7fe4c3c830d0>"
            ]
          },
          "execution_count": 19,
          "metadata": {},
          "output_type": "execute_result"
        },
        {
          "data": {
            "image/png": "[encoded data removed]",
            "text/plain": [
              "<Figure size 1152x432 with 1 Axes>"
            ]
          },
          "metadata": {},
          "output_type": "display_data"
        }
      ],
      "source": [
        "dataset['Close: 30 Day Mean'] = dataset['Close'].rolling(window=30).mean()\n",
        "dataset[['Close','Close: 30 Day Mean']].plot(figsize=(16,6))"
      ]
    },
    {
      "cell_type": "code",
      "execution_count": null,
      "metadata": {
        "colab": {
          "base_uri": "https://localhost:8080/",
          "height": 385
        },
        "id": "im566wcDbaK7",
        "outputId": "ffadb26d-c1fc-4f9b-ae7f-b9f3e17ea22f"
      },
      "outputs": [
        {
          "data": {
            "text/plain": [
              "<matplotlib.axes._subplots.AxesSubplot at 0x7fe4c3ba2310>"
            ]
          },
          "execution_count": 20,
          "metadata": {},
          "output_type": "execute_result"
        },
        {
          "data": {
            "image/png": "[encoded data removed]",
            "text/plain": [
              "<Figure size 1152x432 with 1 Axes>"
            ]
          },
          "metadata": {},
          "output_type": "display_data"
        }
      ],
      "source": [
        "# Optional specify a minimum number of periods\n",
        "dataset['Close'].expanding(min_periods=1).mean().plot(figsize=(16,6))"
      ]
    },
    {
      "cell_type": "code",
      "execution_count": 12,
      "metadata": {
        "id": "dj1BZwmibaK8"
      },
      "outputs": [],
      "source": [
        "training_set=dataset['Open']\n",
        "training_set=pd.DataFrame(training_set)"
      ]
    },
    {
      "cell_type": "code",
      "execution_count": 13,
      "metadata": {
        "id": "KfqmiFX0baK9"
      },
      "outputs": [],
      "source": [
        "# Feature Scaling\n",
        "from sklearn.preprocessing import MinMaxScaler\n",
        "sc = MinMaxScaler(feature_range = (0, 1))\n",
        "training_set_scaled = sc.fit_transform(training_set)"
      ]
    },
    {
      "cell_type": "code",
      "execution_count": 14,
      "metadata": {
        "id": "j3dxNWPwbaK9"
      },
      "outputs": [],
      "source": [
        "# Creating a data structure with 60 timesteps and 1 output\n",
        "X_train = []\n",
        "y_train = []\n",
        "for i in range(60, 1258):\n",
        "    X_train.append(training_set_scaled[i-60:i, 0])\n",
        "    y_train.append(training_set_scaled[i, 0])\n",
        "X_train, y_train = np.array(X_train), np.array(y_train)\n",
        "\n",
        "# Reshaping\n",
        "X_train = np.reshape(X_train, (X_train.shape[0], X_train.shape[1], 1))"
      ]
    },
    {
      "cell_type": "code",
      "execution_count": null,
      "metadata": {
        "colab": {
          "base_uri": "https://localhost:8080/"
        },
        "id": "vLzvfh-CxOhN",
        "outputId": "04fa8ed4-c4e8-4adb-eb1c-34c24d65cfa0"
      },
      "outputs": [
        {
          "data": {
            "text/plain": [
              "(60, 1)"
            ]
          },
          "execution_count": 24,
          "metadata": {},
          "output_type": "execute_result"
        }
      ],
      "source": [
        "X_train[0].shape"
      ]
    },
    {
      "cell_type": "code",
      "execution_count": null,
      "metadata": {
        "colab": {
          "base_uri": "https://localhost:8080/"
        },
        "id": "c9xFc7CJ1POT",
        "outputId": "b254c3af-0f55-44cf-d674-1e0a5d765159"
      },
      "outputs": [
        {
          "data": {
            "text/plain": [
              "array([0.08627874, 0.08471612, 0.07454052, ..., 0.95725128, 0.93796041,\n",
              "       0.93688146])"
            ]
          },
          "execution_count": 25,
          "metadata": {},
          "output_type": "execute_result"
        }
      ],
      "source": [
        "y_train"
      ]
    },
    {
      "cell_type": "code",
      "execution_count": 15,
      "metadata": {
        "id": "FUFcQ8PhbaK9"
      },
      "outputs": [],
      "source": [
        "#Building the RNN\n",
        "#Importing the Keras libraries and packages\n",
        "from keras.models import Sequential\n",
        "from keras.layers import Dense\n",
        "from keras.layers import LSTM\n",
        "from keras.layers import Dropout\n",
        "import tensorflow as tf"
      ]
    },
    {
      "cell_type": "code",
      "execution_count": 16,
      "metadata": {
        "id": "DSGMiaJKbaK-"
      },
      "outputs": [],
      "source": [
        "# Initialising the RNN\n",
        "model_tune = Sequential()"
      ]
    },
    {
      "cell_type": "code",
      "execution_count": null,
      "metadata": {
        "id": "LZ34x4R-baK-"
      },
      "outputs": [],
      "source": [
        "# Adding the first LSTM layer and some Dropout regularisation\n",
        "# Adding a second LSTM layer and some Dropout regularisation\n",
        "# Adding a third LSTM layer and some Dropout regularisation\n",
        "# Adding a fourth LSTM layer and some Dropout regularisation\n",
        "# Adding the output layer\n",
        "# Code here\n"
      ]
    },
    {
      "cell_type": "code",
      "execution_count": 17,
      "metadata": {
        "id": "pGFigIhzAR1Z"
      },
      "outputs": [],
      "source": [
        "model_tune = tf.keras.models.Sequential([\n",
        "  tf.keras.layers.Lambda(lambda x: tf.expand_dims(x, axis=-1),\n",
        "                      input_shape=[60]),\n",
        "  tf.keras.layers.Bidirectional(tf.keras.layers.LSTM(128, return_sequences=True)),\n",
        "  tf.keras.layers.Dropout(0.2),\n",
        "  tf.keras.layers.Bidirectional(tf.keras.layers.LSTM(64, return_sequences=True)),\n",
        "  tf.keras.layers.Dropout(0.2),\n",
        "  tf.keras.layers.Bidirectional(tf.keras.layers.LSTM(32, return_sequences=True)),\n",
        "  tf.keras.layers.Dropout(0.2),\n",
        "  tf.keras.layers.Bidirectional(tf.keras.layers.LSTM(32)),\n",
        "  tf.keras.layers.Dense(1)\n",
        "])"
      ]
    },
    {
      "cell_type": "code",
      "execution_count": 18,
      "metadata": {
        "colab": {
          "base_uri": "https://localhost:8080/"
        },
        "id": "4RM3xT3vA75J",
        "outputId": "9ee83198-1b8d-4302-9e41-1d900045aabe"
      },
      "outputs": [
        {
          "output_type": "stream",
          "name": "stdout",
          "text": [
            "Model: \"sequential_1\"\n",
            "_________________________________________________________________\n",
            " Layer (type)                Output Shape              Param #   \n",
            "=================================================================\n",
            " lambda (Lambda)             (None, 60, 1)             0         \n",
            "                                                                 \n",
            " bidirectional (Bidirectiona  (None, 60, 256)          133120    \n",
            " l)                                                              \n",
            "                                                                 \n",
            " dropout (Dropout)           (None, 60, 256)           0         \n",
            "                                                                 \n",
            " bidirectional_1 (Bidirectio  (None, 60, 128)          164352    \n",
            " nal)                                                            \n",
            "                                                                 \n",
            " dropout_1 (Dropout)         (None, 60, 128)           0         \n",
            "                                                                 \n",
            " bidirectional_2 (Bidirectio  (None, 60, 64)           41216     \n",
            " nal)                                                            \n",
            "                                                                 \n",
            " dropout_2 (Dropout)         (None, 60, 64)            0         \n",
            "                                                                 \n",
            " bidirectional_3 (Bidirectio  (None, 64)               24832     \n",
            " nal)                                                            \n",
            "                                                                 \n",
            " dense (Dense)               (None, 1)                 65        \n",
            "                                                                 \n",
            "=================================================================\n",
            "Total params: 363,585\n",
            "Trainable params: 363,585\n",
            "Non-trainable params: 0\n",
            "_________________________________________________________________\n"
          ]
        }
      ],
      "source": [
        "model_tune.summary()"
      ]
    },
    {
      "cell_type": "code",
      "execution_count": 20,
      "metadata": {
        "id": "RFKpXTSYDULA"
      },
      "outputs": [],
      "source": [
        "# Set the learning rate scheduler\n",
        "lr_schedule = tf.keras.callbacks.LearningRateScheduler(\n",
        "    lambda epoch: 1e-8 * 10**(epoch / 20))\n",
        "\n",
        "# Initialize the optimizer\n",
        "optimizer = tf.keras.optimizers.SGD(momentum=0.9)\n",
        "\n",
        "# Set the training parameters\n",
        "model_tune.compile(loss=tf.keras.losses.Huber(), optimizer=optimizer)"
      ]
    },
    {
      "cell_type": "code",
      "execution_count": null,
      "metadata": {
        "colab": {
          "background_save": true,
          "base_uri": "https://localhost:8080/"
        },
        "id": "bdeEsdyMbaK_",
        "outputId": "e9abbcba-c008-418f-c971-295300091c30"
      },
      "outputs": [
        {
          "name": "stdout",
          "output_type": "stream",
          "text": [
            "Epoch 1/100\n",
            "38/38 [==============================] - 13s 30ms/step - loss: 0.1620 - lr: 1.0000e-08\n",
            "Epoch 2/100\n",
            "38/38 [==============================] - 1s 29ms/step - loss: 0.1622 - lr: 1.1220e-08\n",
            "Epoch 3/100\n",
            "38/38 [==============================] - 1s 29ms/step - loss: 0.1622 - lr: 1.2589e-08\n",
            "Epoch 4/100\n",
            "38/38 [==============================] - 1s 28ms/step - loss: 0.1621 - lr: 1.4125e-08\n",
            "Epoch 5/100\n",
            "38/38 [==============================] - 1s 30ms/step - loss: 0.1624 - lr: 1.5849e-08\n",
            "Epoch 6/100\n",
            "38/38 [==============================] - 1s 29ms/step - loss: 0.1620 - lr: 1.7783e-08\n",
            "Epoch 7/100\n",
            "38/38 [==============================] - 1s 29ms/step - loss: 0.1621 - lr: 1.9953e-08\n",
            "Epoch 8/100\n",
            "38/38 [==============================] - 1s 29ms/step - loss: 0.1623 - lr: 2.2387e-08\n",
            "Epoch 9/100\n",
            "38/38 [==============================] - 1s 29ms/step - loss: 0.1618 - lr: 2.5119e-08\n",
            "Epoch 10/100\n",
            "38/38 [==============================] - 1s 29ms/step - loss: 0.1623 - lr: 2.8184e-08\n",
            "Epoch 11/100\n",
            "38/38 [==============================] - 1s 29ms/step - loss: 0.1621 - lr: 3.1623e-08\n",
            "Epoch 12/100\n",
            "38/38 [==============================] - 1s 29ms/step - loss: 0.1622 - lr: 3.5481e-08\n",
            "Epoch 13/100\n",
            "38/38 [==============================] - 1s 29ms/step - loss: 0.1620 - lr: 3.9811e-08\n",
            "Epoch 14/100\n",
            "38/38 [==============================] - 1s 29ms/step - loss: 0.1620 - lr: 4.4668e-08\n",
            "Epoch 15/100\n",
            "38/38 [==============================] - 1s 29ms/step - loss: 0.1620 - lr: 5.0119e-08\n",
            "Epoch 16/100\n",
            "38/38 [==============================] - 1s 30ms/step - loss: 0.1620 - lr: 5.6234e-08\n",
            "Epoch 17/100\n",
            "38/38 [==============================] - 1s 29ms/step - loss: 0.1623 - lr: 6.3096e-08\n",
            "Epoch 18/100\n",
            "38/38 [==============================] - 1s 28ms/step - loss: 0.1618 - lr: 7.0795e-08\n",
            "Epoch 19/100\n",
            "38/38 [==============================] - 1s 29ms/step - loss: 0.1620 - lr: 7.9433e-08\n",
            "Epoch 20/100\n",
            "38/38 [==============================] - 1s 29ms/step - loss: 0.1618 - lr: 8.9125e-08\n",
            "Epoch 21/100\n",
            "38/38 [==============================] - 1s 29ms/step - loss: 0.1618 - lr: 1.0000e-07\n",
            "Epoch 22/100\n",
            "38/38 [==============================] - 1s 29ms/step - loss: 0.1617 - lr: 1.1220e-07\n",
            "Epoch 23/100\n",
            "38/38 [==============================] - 1s 29ms/step - loss: 0.1618 - lr: 1.2589e-07\n",
            "Epoch 24/100\n",
            "38/38 [==============================] - 1s 30ms/step - loss: 0.1617 - lr: 1.4125e-07\n",
            "Epoch 25/100\n",
            "38/38 [==============================] - 1s 30ms/step - loss: 0.1617 - lr: 1.5849e-07\n",
            "Epoch 26/100\n",
            "38/38 [==============================] - 1s 29ms/step - loss: 0.1615 - lr: 1.7783e-07\n",
            "Epoch 27/100\n",
            "38/38 [==============================] - 1s 30ms/step - loss: 0.1614 - lr: 1.9953e-07\n",
            "Epoch 28/100\n",
            "38/38 [==============================] - 1s 30ms/step - loss: 0.1613 - lr: 2.2387e-07\n",
            "Epoch 29/100\n",
            "38/38 [==============================] - 1s 29ms/step - loss: 0.1610 - lr: 2.5119e-07\n",
            "Epoch 30/100\n",
            "38/38 [==============================] - 1s 29ms/step - loss: 0.1610 - lr: 2.8184e-07\n",
            "Epoch 31/100\n",
            "38/38 [==============================] - 1s 29ms/step - loss: 0.1606 - lr: 3.1623e-07\n",
            "Epoch 32/100\n",
            "38/38 [==============================] - 1s 29ms/step - loss: 0.1605 - lr: 3.5481e-07\n",
            "Epoch 33/100\n",
            "38/38 [==============================] - 1s 30ms/step - loss: 0.1605 - lr: 3.9811e-07\n",
            "Epoch 34/100\n",
            "38/38 [==============================] - 1s 30ms/step - loss: 0.1599 - lr: 4.4668e-07\n",
            "Epoch 35/100\n",
            "38/38 [==============================] - 1s 30ms/step - loss: 0.1599 - lr: 5.0119e-07\n",
            "Epoch 36/100\n",
            "38/38 [==============================] - 1s 30ms/step - loss: 0.1595 - lr: 5.6234e-07\n",
            "Epoch 37/100\n",
            "38/38 [==============================] - 1s 30ms/step - loss: 0.1593 - lr: 6.3096e-07\n",
            "Epoch 38/100\n",
            "38/38 [==============================] - 1s 30ms/step - loss: 0.1587 - lr: 7.0795e-07\n",
            "Epoch 39/100\n",
            "38/38 [==============================] - 1s 29ms/step - loss: 0.1586 - lr: 7.9433e-07\n",
            "Epoch 40/100\n",
            "38/38 [==============================] - 1s 29ms/step - loss: 0.1583 - lr: 8.9125e-07\n",
            "Epoch 41/100\n",
            "38/38 [==============================] - 1s 30ms/step - loss: 0.1574 - lr: 1.0000e-06\n",
            "Epoch 42/100\n",
            "38/38 [==============================] - 1s 30ms/step - loss: 0.1567 - lr: 1.1220e-06\n",
            "Epoch 43/100\n",
            "38/38 [==============================] - 1s 30ms/step - loss: 0.1561 - lr: 1.2589e-06\n",
            "Epoch 44/100\n",
            "38/38 [==============================] - 1s 30ms/step - loss: 0.1556 - lr: 1.4125e-06\n",
            "Epoch 45/100\n",
            "38/38 [==============================] - 1s 29ms/step - loss: 0.1546 - lr: 1.5849e-06\n",
            "Epoch 46/100\n",
            "38/38 [==============================] - 1s 29ms/step - loss: 0.1536 - lr: 1.7783e-06\n",
            "Epoch 47/100\n",
            "38/38 [==============================] - 1s 29ms/step - loss: 0.1529 - lr: 1.9953e-06\n",
            "Epoch 48/100\n",
            "38/38 [==============================] - 1s 29ms/step - loss: 0.1516 - lr: 2.2387e-06\n",
            "Epoch 49/100\n",
            "38/38 [==============================] - 1s 29ms/step - loss: 0.1510 - lr: 2.5119e-06\n",
            "Epoch 50/100\n",
            "38/38 [==============================] - 1s 29ms/step - loss: 0.1492 - lr: 2.8184e-06\n",
            "Epoch 51/100\n",
            "38/38 [==============================] - 1s 30ms/step - loss: 0.1476 - lr: 3.1623e-06\n",
            "Epoch 52/100\n",
            "38/38 [==============================] - 1s 30ms/step - loss: 0.1459 - lr: 3.5481e-06\n",
            "Epoch 53/100\n",
            "38/38 [==============================] - 1s 29ms/step - loss: 0.1441 - lr: 3.9811e-06\n",
            "Epoch 54/100\n",
            "38/38 [==============================] - 1s 29ms/step - loss: 0.1421 - lr: 4.4668e-06\n",
            "Epoch 55/100\n",
            "38/38 [==============================] - 1s 29ms/step - loss: 0.1400 - lr: 5.0119e-06\n",
            "Epoch 56/100\n",
            "38/38 [==============================] - 1s 29ms/step - loss: 0.1373 - lr: 5.6234e-06\n",
            "Epoch 57/100\n",
            "38/38 [==============================] - 1s 30ms/step - loss: 0.1345 - lr: 6.3096e-06\n",
            "Epoch 58/100\n",
            "38/38 [==============================] - 1s 29ms/step - loss: 0.1317 - lr: 7.0795e-06\n",
            "Epoch 59/100\n",
            "38/38 [==============================] - 1s 29ms/step - loss: 0.1282 - lr: 7.9433e-06\n",
            "Epoch 60/100\n",
            "38/38 [==============================] - 1s 29ms/step - loss: 0.1249 - lr: 8.9125e-06\n",
            "Epoch 61/100\n",
            "38/38 [==============================] - 1s 29ms/step - loss: 0.1211 - lr: 1.0000e-05\n",
            "Epoch 62/100\n",
            "38/38 [==============================] - 1s 29ms/step - loss: 0.1166 - lr: 1.1220e-05\n",
            "Epoch 63/100\n",
            "38/38 [==============================] - 1s 29ms/step - loss: 0.1125 - lr: 1.2589e-05\n",
            "Epoch 64/100\n",
            "38/38 [==============================] - 1s 29ms/step - loss: 0.1078 - lr: 1.4125e-05\n",
            "Epoch 65/100\n",
            "38/38 [==============================] - 1s 29ms/step - loss: 0.1029 - lr: 1.5849e-05\n",
            "Epoch 66/100\n",
            "38/38 [==============================] - 1s 29ms/step - loss: 0.0976 - lr: 1.7783e-05\n",
            "Epoch 67/100\n",
            "38/38 [==============================] - 1s 29ms/step - loss: 0.0922 - lr: 1.9953e-05\n",
            "Epoch 68/100\n",
            "38/38 [==============================] - 1s 29ms/step - loss: 0.0866 - lr: 2.2387e-05\n",
            "Epoch 69/100\n",
            "38/38 [==============================] - 1s 29ms/step - loss: 0.0810 - lr: 2.5119e-05\n",
            "Epoch 70/100\n",
            "38/38 [==============================] - 1s 29ms/step - loss: 0.0749 - lr: 2.8184e-05\n",
            "Epoch 71/100\n",
            "38/38 [==============================] - 1s 29ms/step - loss: 0.0694 - lr: 3.1623e-05\n",
            "Epoch 72/100\n",
            "38/38 [==============================] - 1s 29ms/step - loss: 0.0636 - lr: 3.5481e-05\n",
            "Epoch 73/100\n",
            "38/38 [==============================] - 1s 29ms/step - loss: 0.0579 - lr: 3.9811e-05\n",
            "Epoch 74/100\n",
            "38/38 [==============================] - 1s 29ms/step - loss: 0.0529 - lr: 4.4668e-05\n",
            "Epoch 75/100\n",
            "38/38 [==============================] - 1s 29ms/step - loss: 0.0482 - lr: 5.0119e-05\n",
            "Epoch 76/100\n",
            "38/38 [==============================] - 1s 29ms/step - loss: 0.0441 - lr: 5.6234e-05\n",
            "Epoch 77/100\n",
            "38/38 [==============================] - 1s 29ms/step - loss: 0.0400 - lr: 6.3096e-05\n",
            "Epoch 78/100\n",
            "38/38 [==============================] - 1s 29ms/step - loss: 0.0369 - lr: 7.0795e-05\n",
            "Epoch 79/100\n",
            "38/38 [==============================] - 1s 29ms/step - loss: 0.0342 - lr: 7.9433e-05\n",
            "Epoch 80/100\n",
            "38/38 [==============================] - 1s 29ms/step - loss: 0.0322 - lr: 8.9125e-05\n",
            "Epoch 81/100\n",
            "38/38 [==============================] - 1s 29ms/step - loss: 0.0306 - lr: 1.0000e-04\n",
            "Epoch 82/100\n",
            "38/38 [==============================] - 1s 29ms/step - loss: 0.0293 - lr: 1.1220e-04\n",
            "Epoch 83/100\n",
            "38/38 [==============================] - 1s 29ms/step - loss: 0.0285 - lr: 1.2589e-04\n",
            "Epoch 84/100\n",
            "38/38 [==============================] - 1s 28ms/step - loss: 0.0276 - lr: 1.4125e-04\n",
            "Epoch 85/100\n",
            "38/38 [==============================] - 1s 29ms/step - loss: 0.0271 - lr: 1.5849e-04\n",
            "Epoch 86/100\n",
            "38/38 [==============================] - 1s 29ms/step - loss: 0.0263 - lr: 1.7783e-04\n",
            "Epoch 87/100\n",
            "38/38 [==============================] - 1s 29ms/step - loss: 0.0257 - lr: 1.9953e-04\n",
            "Epoch 88/100\n",
            "38/38 [==============================] - 1s 29ms/step - loss: 0.0249 - lr: 2.2387e-04\n",
            "Epoch 89/100\n",
            "38/38 [==============================] - 1s 29ms/step - loss: 0.0243 - lr: 2.5119e-04\n",
            "Epoch 90/100\n",
            "38/38 [==============================] - 1s 29ms/step - loss: 0.0233 - lr: 2.8184e-04\n",
            "Epoch 91/100\n",
            "38/38 [==============================] - 1s 29ms/step - loss: 0.0224 - lr: 3.1623e-04\n",
            "Epoch 92/100\n",
            "38/38 [==============================] - 1s 29ms/step - loss: 0.0212 - lr: 3.5481e-04\n",
            "Epoch 93/100\n",
            "38/38 [==============================] - 1s 29ms/step - loss: 0.0202 - lr: 3.9811e-04\n",
            "Epoch 94/100\n",
            "38/38 [==============================] - 1s 29ms/step - loss: 0.0188 - lr: 4.4668e-04\n",
            "Epoch 95/100\n",
            "38/38 [==============================] - 1s 29ms/step - loss: 0.0173 - lr: 5.0119e-04\n",
            "Epoch 96/100\n",
            "38/38 [==============================] - 1s 29ms/step - loss: 0.0157 - lr: 5.6234e-04\n",
            "Epoch 97/100\n",
            "38/38 [==============================] - 1s 29ms/step - loss: 0.0139 - lr: 6.3096e-04\n",
            "Epoch 98/100\n",
            "38/38 [==============================] - 1s 29ms/step - loss: 0.0119 - lr: 7.0795e-04\n",
            "Epoch 99/100\n",
            "38/38 [==============================] - 1s 29ms/step - loss: 0.0099 - lr: 7.9433e-04\n",
            "Epoch 100/100\n",
            "38/38 [==============================] - 1s 29ms/step - loss: 0.0078 - lr: 8.9125e-04\n"
          ]
        }
      ],
      "source": [
        "# Fitting the RNN to the Training set\n",
        "history = model_tune.fit(X_train, y_train, batch_size=32, epochs=100, callbacks=[lr_schedule])"
      ]
    },
    {
      "cell_type": "code",
      "execution_count": null,
      "metadata": {
        "colab": {
          "background_save": true
        },
        "id": "cqTS6ZByEpXG",
        "outputId": "136cb4d1-264f-4bd3-9dfe-1941f58df795"
      },
      "outputs": [
        {
          "data": {
            "text/plain": [
              "(1e-08, 0.001, 0.0, 0.2)"
            ]
          },
          "execution_count": null,
          "metadata": {},
          "output_type": "execute_result"
        },
        {
          "data": {
            "image/png": "[encoded data removed]",
            "text/plain": [
              "<Figure size 720x432 with 1 Axes>"
            ]
          },
          "metadata": {},
          "output_type": "display_data"
        }
      ],
      "source": [
        "# Define the learning rate array\n",
        "lrs = 1e-8 * (10 ** (np.arange(100) / 20))\n",
        "\n",
        "# Set the figure size\n",
        "plt.figure(figsize=(10, 6))\n",
        "\n",
        "# Set the grid\n",
        "plt.grid(True)\n",
        "\n",
        "# Plot the loss in log scale\n",
        "plt.semilogx(lrs, history.history[\"loss\"])\n",
        "\n",
        "# Increase the tickmarks size\n",
        "plt.tick_params('both', length=10, width=1, which='both')\n",
        "\n",
        "# Set the plot boundaries\n",
        "plt.axis([1e-8, 1e-3, 0, 0.2])"
      ]
    },
    {
      "cell_type": "code",
      "execution_count": 52,
      "metadata": {
        "id": "WHhIeen3Fiw_"
      },
      "outputs": [],
      "source": [
        "# Reset states generated by Keras\n",
        "tf.keras.backend.clear_session()\n",
        "\n",
        "# Initialize the optimizer\n",
        "optimizer = tf.keras.optimizers.Adam(learning_rate=0.001)\n",
        "\n",
        "#Build model\n",
        "model = tf.keras.models.Sequential([\n",
        "  tf.keras.layers.Lambda(lambda x: tf.expand_dims(x, axis=-1),\n",
        "                      input_shape=[60]),\n",
        "  tf.keras.layers.Bidirectional(tf.keras.layers.LSTM(128, return_sequences=True)),\n",
        "  tf.keras.layers.Dropout(0.2),\n",
        "  tf.keras.layers.Bidirectional(tf.keras.layers.LSTM(64, return_sequences=True)),\n",
        "  tf.keras.layers.Dropout(0.2),\n",
        "  tf.keras.layers.Bidirectional(tf.keras.layers.LSTM(32, return_sequences=True)),\n",
        "  tf.keras.layers.Dropout(0.2),\n",
        "  tf.keras.layers.Bidirectional(tf.keras.layers.LSTM(32)),\n",
        "  tf.keras.layers.Dense(1)\n",
        "])\n",
        "\n",
        "# Set the training parameters\n",
        "model.compile(loss=tf.keras.losses.Huber(), optimizer=optimizer)"
      ]
    },
    {
      "cell_type": "code",
      "execution_count": 56,
      "metadata": {
        "id": "poSB4tINGFu8",
        "colab": {
          "base_uri": "https://localhost:8080/"
        },
        "outputId": "07151242-f56e-49e6-ee4d-aebebce0cd18"
      },
      "outputs": [
        {
          "output_type": "stream",
          "name": "stdout",
          "text": [
            "Epoch 1/150\n",
            "38/38 [==============================] - 1s 29ms/step - loss: 2.9049e-04\n",
            "Epoch 2/150\n",
            "38/38 [==============================] - 1s 28ms/step - loss: 2.3135e-04\n",
            "Epoch 3/150\n",
            "38/38 [==============================] - 1s 28ms/step - loss: 2.3186e-04\n",
            "Epoch 4/150\n",
            "38/38 [==============================] - 1s 28ms/step - loss: 2.5383e-04\n",
            "Epoch 5/150\n",
            "38/38 [==============================] - 1s 28ms/step - loss: 2.7499e-04\n",
            "Epoch 6/150\n",
            "38/38 [==============================] - 1s 28ms/step - loss: 2.5497e-04\n",
            "Epoch 7/150\n",
            "38/38 [==============================] - 1s 28ms/step - loss: 2.5225e-04\n",
            "Epoch 8/150\n",
            "38/38 [==============================] - 1s 28ms/step - loss: 2.1666e-04\n",
            "Epoch 9/150\n",
            "38/38 [==============================] - 1s 28ms/step - loss: 2.6208e-04\n",
            "Epoch 10/150\n",
            "38/38 [==============================] - 1s 28ms/step - loss: 2.4743e-04\n",
            "Epoch 11/150\n",
            "38/38 [==============================] - 1s 28ms/step - loss: 2.7830e-04\n",
            "Epoch 12/150\n",
            "38/38 [==============================] - 1s 27ms/step - loss: 2.4452e-04\n",
            "Epoch 13/150\n",
            "38/38 [==============================] - 1s 28ms/step - loss: 2.2331e-04\n",
            "Epoch 14/150\n",
            "38/38 [==============================] - 1s 28ms/step - loss: 2.2861e-04\n",
            "Epoch 15/150\n",
            "38/38 [==============================] - 1s 27ms/step - loss: 2.3107e-04\n",
            "Epoch 16/150\n",
            "38/38 [==============================] - 1s 28ms/step - loss: 2.1729e-04\n",
            "Epoch 17/150\n",
            "38/38 [==============================] - 1s 27ms/step - loss: 2.5316e-04\n",
            "Epoch 18/150\n",
            "38/38 [==============================] - 1s 27ms/step - loss: 2.1099e-04\n",
            "Epoch 19/150\n",
            "38/38 [==============================] - 1s 27ms/step - loss: 2.2117e-04\n",
            "Epoch 20/150\n",
            "38/38 [==============================] - 1s 27ms/step - loss: 2.4656e-04\n",
            "Epoch 21/150\n",
            "38/38 [==============================] - 1s 29ms/step - loss: 2.2121e-04\n",
            "Epoch 22/150\n",
            "38/38 [==============================] - 1s 27ms/step - loss: 2.4137e-04\n",
            "Epoch 23/150\n",
            "38/38 [==============================] - 1s 28ms/step - loss: 2.2315e-04\n",
            "Epoch 24/150\n",
            "38/38 [==============================] - 1s 28ms/step - loss: 2.4638e-04\n",
            "Epoch 25/150\n",
            "38/38 [==============================] - 1s 27ms/step - loss: 2.1784e-04\n",
            "Epoch 26/150\n",
            "38/38 [==============================] - 1s 28ms/step - loss: 2.0693e-04\n",
            "Epoch 27/150\n",
            "38/38 [==============================] - 1s 28ms/step - loss: 2.3780e-04\n",
            "Epoch 28/150\n",
            "38/38 [==============================] - 1s 28ms/step - loss: 2.3594e-04\n",
            "Epoch 29/150\n",
            "38/38 [==============================] - 1s 28ms/step - loss: 2.6959e-04\n",
            "Epoch 30/150\n",
            "38/38 [==============================] - 1s 28ms/step - loss: 2.4456e-04\n",
            "Epoch 31/150\n",
            "38/38 [==============================] - 1s 27ms/step - loss: 2.5465e-04\n",
            "Epoch 32/150\n",
            "38/38 [==============================] - 1s 28ms/step - loss: 3.3050e-04\n",
            "Epoch 33/150\n",
            "38/38 [==============================] - 1s 28ms/step - loss: 2.1923e-04\n",
            "Epoch 34/150\n",
            "38/38 [==============================] - 1s 28ms/step - loss: 2.1273e-04\n",
            "Epoch 35/150\n",
            "38/38 [==============================] - 1s 27ms/step - loss: 2.7229e-04\n",
            "Epoch 36/150\n",
            "38/38 [==============================] - 1s 28ms/step - loss: 2.3820e-04\n",
            "Epoch 37/150\n",
            "38/38 [==============================] - 1s 27ms/step - loss: 2.6821e-04\n",
            "Epoch 38/150\n",
            "38/38 [==============================] - 1s 28ms/step - loss: 2.5907e-04\n",
            "Epoch 39/150\n",
            "38/38 [==============================] - 1s 27ms/step - loss: 2.2350e-04\n",
            "Epoch 40/150\n",
            "38/38 [==============================] - 1s 27ms/step - loss: 2.5568e-04\n",
            "Epoch 41/150\n",
            "38/38 [==============================] - 1s 27ms/step - loss: 2.1835e-04\n",
            "Epoch 42/150\n",
            "38/38 [==============================] - 1s 27ms/step - loss: 2.2953e-04\n",
            "Epoch 43/150\n",
            "38/38 [==============================] - 1s 27ms/step - loss: 2.3116e-04\n",
            "Epoch 44/150\n",
            "38/38 [==============================] - 1s 27ms/step - loss: 2.2265e-04\n",
            "Epoch 45/150\n",
            "38/38 [==============================] - 1s 28ms/step - loss: 2.2693e-04\n",
            "Epoch 46/150\n",
            "38/38 [==============================] - 1s 28ms/step - loss: 2.1094e-04\n",
            "Epoch 47/150\n",
            "38/38 [==============================] - 1s 28ms/step - loss: 2.1808e-04\n",
            "Epoch 48/150\n",
            "38/38 [==============================] - 1s 27ms/step - loss: 2.6298e-04\n",
            "Epoch 49/150\n",
            "38/38 [==============================] - 1s 28ms/step - loss: 2.1530e-04\n",
            "Epoch 50/150\n",
            "38/38 [==============================] - 1s 28ms/step - loss: 1.9572e-04\n",
            "Epoch 51/150\n",
            "38/38 [==============================] - 1s 28ms/step - loss: 2.1190e-04\n",
            "Epoch 52/150\n",
            "38/38 [==============================] - 1s 28ms/step - loss: 2.4799e-04\n",
            "Epoch 53/150\n",
            "38/38 [==============================] - 1s 28ms/step - loss: 2.1271e-04\n",
            "Epoch 54/150\n",
            "38/38 [==============================] - 1s 28ms/step - loss: 2.1290e-04\n",
            "Epoch 55/150\n",
            "38/38 [==============================] - 1s 28ms/step - loss: 2.3277e-04\n",
            "Epoch 56/150\n",
            "38/38 [==============================] - 1s 28ms/step - loss: 2.0358e-04\n",
            "Epoch 57/150\n",
            "38/38 [==============================] - 1s 27ms/step - loss: 2.0324e-04\n",
            "Epoch 58/150\n",
            "38/38 [==============================] - 1s 28ms/step - loss: 2.4148e-04\n",
            "Epoch 59/150\n",
            "38/38 [==============================] - 1s 28ms/step - loss: 2.2387e-04\n",
            "Epoch 60/150\n",
            "38/38 [==============================] - 1s 28ms/step - loss: 2.0354e-04\n",
            "Epoch 61/150\n",
            "38/38 [==============================] - 1s 28ms/step - loss: 2.0928e-04\n",
            "Epoch 62/150\n",
            "38/38 [==============================] - 1s 28ms/step - loss: 2.2729e-04\n",
            "Epoch 63/150\n",
            "38/38 [==============================] - 1s 28ms/step - loss: 2.3043e-04\n",
            "Epoch 64/150\n",
            "38/38 [==============================] - 1s 28ms/step - loss: 2.2185e-04\n",
            "Epoch 65/150\n",
            "38/38 [==============================] - 1s 27ms/step - loss: 2.1257e-04\n",
            "Epoch 66/150\n",
            "38/38 [==============================] - 1s 28ms/step - loss: 2.0657e-04\n",
            "Epoch 67/150\n",
            "38/38 [==============================] - 1s 27ms/step - loss: 2.1122e-04\n",
            "Epoch 68/150\n",
            "38/38 [==============================] - 1s 27ms/step - loss: 1.9431e-04\n",
            "Epoch 69/150\n",
            "38/38 [==============================] - 1s 28ms/step - loss: 1.8866e-04\n",
            "Epoch 70/150\n",
            "38/38 [==============================] - 1s 27ms/step - loss: 1.9874e-04\n",
            "Epoch 71/150\n",
            "38/38 [==============================] - 1s 28ms/step - loss: 1.8854e-04\n",
            "Epoch 72/150\n",
            "38/38 [==============================] - 1s 27ms/step - loss: 2.0958e-04\n",
            "Epoch 73/150\n",
            "38/38 [==============================] - 1s 28ms/step - loss: 2.0767e-04\n",
            "Epoch 74/150\n",
            "38/38 [==============================] - 1s 28ms/step - loss: 2.8443e-04\n",
            "Epoch 75/150\n",
            "38/38 [==============================] - 1s 27ms/step - loss: 2.3790e-04\n",
            "Epoch 76/150\n",
            "38/38 [==============================] - 1s 28ms/step - loss: 2.1333e-04\n",
            "Epoch 77/150\n",
            "38/38 [==============================] - 1s 27ms/step - loss: 1.9486e-04\n",
            "Epoch 78/150\n",
            "38/38 [==============================] - 1s 28ms/step - loss: 2.3999e-04\n",
            "Epoch 79/150\n",
            "38/38 [==============================] - 1s 28ms/step - loss: 2.4324e-04\n",
            "Epoch 80/150\n",
            "38/38 [==============================] - 1s 28ms/step - loss: 2.1713e-04\n",
            "Epoch 81/150\n",
            "38/38 [==============================] - 1s 28ms/step - loss: 2.0684e-04\n",
            "Epoch 82/150\n",
            "38/38 [==============================] - 1s 27ms/step - loss: 1.9852e-04\n",
            "Epoch 83/150\n",
            "38/38 [==============================] - 1s 28ms/step - loss: 1.8275e-04\n",
            "Epoch 84/150\n",
            "38/38 [==============================] - 1s 28ms/step - loss: 2.2072e-04\n",
            "Epoch 85/150\n",
            "38/38 [==============================] - 1s 28ms/step - loss: 1.8887e-04\n",
            "Epoch 86/150\n",
            "38/38 [==============================] - 1s 28ms/step - loss: 1.9232e-04\n",
            "Epoch 87/150\n",
            "38/38 [==============================] - 1s 29ms/step - loss: 2.5138e-04\n",
            "Epoch 88/150\n",
            "38/38 [==============================] - 1s 28ms/step - loss: 1.9469e-04\n",
            "Epoch 89/150\n",
            "38/38 [==============================] - 1s 28ms/step - loss: 2.0227e-04\n",
            "Epoch 90/150\n",
            "38/38 [==============================] - 1s 28ms/step - loss: 2.0583e-04\n",
            "Epoch 91/150\n",
            "38/38 [==============================] - 1s 28ms/step - loss: 2.2186e-04\n",
            "Epoch 92/150\n",
            "38/38 [==============================] - 1s 28ms/step - loss: 2.0644e-04\n",
            "Epoch 93/150\n",
            "38/38 [==============================] - 1s 27ms/step - loss: 1.8870e-04\n",
            "Epoch 94/150\n",
            "38/38 [==============================] - 1s 28ms/step - loss: 2.1731e-04\n",
            "Epoch 95/150\n",
            "38/38 [==============================] - 1s 27ms/step - loss: 2.0577e-04\n",
            "Epoch 96/150\n",
            "38/38 [==============================] - 1s 27ms/step - loss: 1.9416e-04\n",
            "Epoch 97/150\n",
            "38/38 [==============================] - 1s 28ms/step - loss: 1.8623e-04\n",
            "Epoch 98/150\n",
            "38/38 [==============================] - 1s 28ms/step - loss: 2.1473e-04\n",
            "Epoch 99/150\n",
            "38/38 [==============================] - 1s 28ms/step - loss: 1.9173e-04\n",
            "Epoch 100/150\n",
            "38/38 [==============================] - 1s 28ms/step - loss: 2.0675e-04\n",
            "Epoch 101/150\n",
            "38/38 [==============================] - 1s 28ms/step - loss: 1.9389e-04\n",
            "Epoch 102/150\n",
            "38/38 [==============================] - 1s 29ms/step - loss: 2.0687e-04\n",
            "Epoch 103/150\n",
            "38/38 [==============================] - 1s 28ms/step - loss: 1.8087e-04\n",
            "Epoch 104/150\n",
            "38/38 [==============================] - 1s 29ms/step - loss: 2.6744e-04\n",
            "Epoch 105/150\n",
            "38/38 [==============================] - 1s 28ms/step - loss: 2.3645e-04\n",
            "Epoch 106/150\n",
            "38/38 [==============================] - 1s 28ms/step - loss: 1.9948e-04\n",
            "Epoch 107/150\n",
            "38/38 [==============================] - 1s 29ms/step - loss: 1.9487e-04\n",
            "Epoch 108/150\n",
            "38/38 [==============================] - 1s 28ms/step - loss: 2.1460e-04\n",
            "Epoch 109/150\n",
            "38/38 [==============================] - 1s 28ms/step - loss: 1.8674e-04\n",
            "Epoch 110/150\n",
            "38/38 [==============================] - 1s 28ms/step - loss: 1.9482e-04\n",
            "Epoch 111/150\n",
            "38/38 [==============================] - 1s 28ms/step - loss: 2.1819e-04\n",
            "Epoch 112/150\n",
            "38/38 [==============================] - 1s 29ms/step - loss: 1.9678e-04\n",
            "Epoch 113/150\n",
            "38/38 [==============================] - 1s 29ms/step - loss: 1.9109e-04\n",
            "Epoch 114/150\n",
            "38/38 [==============================] - 1s 28ms/step - loss: 1.7966e-04\n",
            "Epoch 115/150\n",
            "38/38 [==============================] - 1s 28ms/step - loss: 1.7355e-04\n",
            "Epoch 116/150\n",
            "38/38 [==============================] - 1s 29ms/step - loss: 1.7785e-04\n",
            "Epoch 117/150\n",
            "38/38 [==============================] - 1s 29ms/step - loss: 1.9823e-04\n",
            "Epoch 118/150\n",
            "38/38 [==============================] - 1s 30ms/step - loss: 1.8773e-04\n",
            "Epoch 119/150\n",
            "38/38 [==============================] - 1s 29ms/step - loss: 2.5379e-04\n",
            "Epoch 120/150\n",
            "38/38 [==============================] - 1s 30ms/step - loss: 1.7439e-04\n",
            "Epoch 121/150\n",
            "38/38 [==============================] - 1s 30ms/step - loss: 1.9077e-04\n",
            "Epoch 122/150\n",
            "38/38 [==============================] - 1s 29ms/step - loss: 1.9542e-04\n",
            "Epoch 123/150\n",
            "38/38 [==============================] - 1s 29ms/step - loss: 2.2670e-04\n",
            "Epoch 124/150\n",
            "38/38 [==============================] - 1s 29ms/step - loss: 1.9152e-04\n",
            "Epoch 125/150\n",
            "38/38 [==============================] - 1s 30ms/step - loss: 1.9180e-04\n",
            "Epoch 126/150\n",
            "38/38 [==============================] - 1s 29ms/step - loss: 2.0283e-04\n",
            "Epoch 127/150\n",
            "38/38 [==============================] - 1s 30ms/step - loss: 1.9263e-04\n",
            "Epoch 128/150\n",
            "38/38 [==============================] - 1s 30ms/step - loss: 2.0600e-04\n",
            "Epoch 129/150\n",
            "38/38 [==============================] - 1s 29ms/step - loss: 1.8760e-04\n",
            "Epoch 130/150\n",
            "38/38 [==============================] - 1s 29ms/step - loss: 1.9735e-04\n",
            "Epoch 131/150\n",
            "38/38 [==============================] - 1s 30ms/step - loss: 2.1453e-04\n",
            "Epoch 132/150\n",
            "38/38 [==============================] - 1s 30ms/step - loss: 2.2403e-04\n",
            "Epoch 133/150\n",
            "38/38 [==============================] - 1s 29ms/step - loss: 2.0159e-04\n",
            "Epoch 134/150\n",
            "38/38 [==============================] - 1s 30ms/step - loss: 1.8722e-04\n",
            "Epoch 135/150\n",
            "38/38 [==============================] - 1s 30ms/step - loss: 1.7958e-04\n",
            "Epoch 136/150\n",
            "38/38 [==============================] - 1s 30ms/step - loss: 1.9369e-04\n",
            "Epoch 137/150\n",
            "38/38 [==============================] - 1s 30ms/step - loss: 1.9918e-04\n",
            "Epoch 138/150\n",
            "38/38 [==============================] - 1s 28ms/step - loss: 2.0792e-04\n",
            "Epoch 139/150\n",
            "38/38 [==============================] - 1s 29ms/step - loss: 1.9498e-04\n",
            "Epoch 140/150\n",
            "38/38 [==============================] - 1s 29ms/step - loss: 2.0399e-04\n",
            "Epoch 141/150\n",
            "38/38 [==============================] - 1s 28ms/step - loss: 1.8942e-04\n",
            "Epoch 142/150\n",
            "38/38 [==============================] - 1s 28ms/step - loss: 2.4771e-04\n",
            "Epoch 143/150\n",
            "38/38 [==============================] - 1s 29ms/step - loss: 1.9316e-04\n",
            "Epoch 144/150\n",
            "38/38 [==============================] - 1s 28ms/step - loss: 1.9332e-04\n",
            "Epoch 145/150\n",
            "38/38 [==============================] - 1s 29ms/step - loss: 2.1814e-04\n",
            "Epoch 146/150\n",
            "38/38 [==============================] - 1s 28ms/step - loss: 2.0154e-04\n",
            "Epoch 147/150\n",
            "38/38 [==============================] - 1s 29ms/step - loss: 2.1032e-04\n",
            "Epoch 148/150\n",
            "38/38 [==============================] - 1s 28ms/step - loss: 2.0727e-04\n",
            "Epoch 149/150\n",
            "38/38 [==============================] - 1s 29ms/step - loss: 1.8095e-04\n",
            "Epoch 150/150\n",
            "38/38 [==============================] - 1s 28ms/step - loss: 1.9167e-04\n"
          ]
        }
      ],
      "source": [
        "history = model.fit(X_train, y_train, batch_size=32, epochs=150)"
      ]
    },
    {
      "cell_type": "code",
      "execution_count": 23,
      "metadata": {
        "id": "YY1jzgAJbaK_"
      },
      "outputs": [],
      "source": [
        "# Making the predictions and visualising the results\n",
        "# Getting the real stock price of 2017\n",
        "dataset_test = pd.read_csv('/content/drive/MyDrive/time series/Google_Stock_Price_Test.csv',index_col=\"Date\",parse_dates=True)"
      ]
    },
    {
      "cell_type": "code",
      "execution_count": 24,
      "metadata": {
        "id": "lpCnXKbFbaLA"
      },
      "outputs": [],
      "source": [
        "real_stock_price = dataset_test.iloc[:, 1:2].values"
      ]
    },
    {
      "cell_type": "code",
      "execution_count": 25,
      "metadata": {
        "id": "WIDgUe-DbaLA"
      },
      "outputs": [],
      "source": [
        "dataset_test[\"Volume\"] = dataset_test[\"Volume\"].str.replace(',', '').astype(float)"
      ]
    },
    {
      "cell_type": "code",
      "execution_count": 26,
      "metadata": {
        "id": "WzYa7xURbaLB"
      },
      "outputs": [],
      "source": [
        "test_set=dataset_test['Open']\n",
        "test_set=pd.DataFrame(test_set)"
      ]
    },
    {
      "cell_type": "code",
      "execution_count": 27,
      "metadata": {
        "colab": {
          "base_uri": "https://localhost:8080/"
        },
        "id": "PcruOHHqbaLB",
        "outputId": "7f438192-2e63-45e5-e5b0-df5c6c346e99"
      },
      "outputs": [
        {
          "output_type": "stream",
          "name": "stdout",
          "text": [
            "<class 'pandas.core.frame.DataFrame'>\n",
            "DatetimeIndex: 20 entries, 2017-01-03 to 2017-01-31\n",
            "Data columns (total 1 columns):\n",
            " #   Column  Non-Null Count  Dtype  \n",
            "---  ------  --------------  -----  \n",
            " 0   Open    20 non-null     float64\n",
            "dtypes: float64(1)\n",
            "memory usage: 320.0 bytes\n"
          ]
        }
      ],
      "source": [
        "test_set.info()"
      ]
    },
    {
      "cell_type": "code",
      "execution_count": 57,
      "metadata": {
        "colab": {
          "base_uri": "https://localhost:8080/"
        },
        "id": "WKSGk59LbaLC",
        "outputId": "b5ccb2e7-12f2-469e-a129-599f5e3fce8c"
      },
      "outputs": [
        {
          "output_type": "stream",
          "name": "stderr",
          "text": [
            "/usr/local/lib/python3.7/dist-packages/sklearn/base.py:451: UserWarning: X does not have valid feature names, but MinMaxScaler was fitted with feature names\n",
            "  \"X does not have valid feature names, but\"\n"
          ]
        }
      ],
      "source": [
        "# Getting the predicted stock price of 2017\n",
        "dataset_total = pd.concat((dataset['Open'], dataset_test['Open']), axis = 0)\n",
        "inputs = dataset_total[len(dataset_total) - len(dataset_test) - 60:].values\n",
        "inputs = inputs.reshape(-1,1)\n",
        "inputs = sc.transform(inputs)\n",
        "X_test = []\n",
        "for i in range(60, 80):\n",
        "    X_test.append(inputs[i-60:i, 0])\n",
        "X_test = np.array(X_test)\n",
        "X_test = np.reshape(X_test, (X_test.shape[0], X_test.shape[1], 1))\n",
        "predicted_stock_price = model.predict(X_test)\n",
        "predicted_stock_price = sc.inverse_transform(predicted_stock_price)"
      ]
    },
    {
      "cell_type": "code",
      "execution_count": 58,
      "metadata": {
        "colab": {
          "base_uri": "https://localhost:8080/"
        },
        "id": "KBDqv8A9baLC",
        "outputId": "87bcd9d9-9b58-4844-c51c-d3d531fc9ef3"
      },
      "outputs": [
        {
          "output_type": "stream",
          "name": "stdout",
          "text": [
            "<class 'pandas.core.frame.DataFrame'>\n",
            "RangeIndex: 20 entries, 0 to 19\n",
            "Data columns (total 1 columns):\n",
            " #   Column  Non-Null Count  Dtype  \n",
            "---  ------  --------------  -----  \n",
            " 0   0       20 non-null     float32\n",
            "dtypes: float32(1)\n",
            "memory usage: 208.0 bytes\n"
          ]
        }
      ],
      "source": [
        "predicted_stock_price=pd.DataFrame(predicted_stock_price)\n",
        "predicted_stock_price.info()"
      ]
    },
    {
      "cell_type": "code",
      "execution_count": 59,
      "metadata": {
        "colab": {
          "base_uri": "https://localhost:8080/",
          "height": 295
        },
        "id": "eDZyX3IybaLC",
        "outputId": "9ba74958-2e82-4e1a-80bf-041a8bc6de97"
      },
      "outputs": [
        {
          "output_type": "display_data",
          "data": {
            "text/plain": [
              "<Figure size 432x288 with 1 Axes>"
            ],
            "image/png": "[encoded data removed]"
          },
          "metadata": {
            "needs_background": "light"
          }
        }
      ],
      "source": [
        "# Visualising the results\n",
        "plt.plot(real_stock_price, color = 'red', label = 'Real Google Stock Price')\n",
        "plt.plot(predicted_stock_price, color = 'blue', label = 'Predicted Google Stock Price')\n",
        "plt.title('Google Stock Price Prediction')\n",
        "plt.xlabel('Time')\n",
        "plt.ylabel('Google Stock Price')\n",
        "plt.legend()\n",
        "plt.show()"
      ]
    }
  ],
  "metadata": {
    "accelerator": "GPU",
    "colab": {
      "collapsed_sections": [],
      "name": "RNN_Stock_Prediction .ipynb",
      "provenance": [],
      "include_colab_link": true
    },
    "gpuClass": "standard",
    "kernelspec": {
      "display_name": "Python 3",
      "language": "python",
      "name": "python3"
    },
    "language_info": {
      "codemirror_mode": {
        "name": "ipython",
        "version": 3
      },
      "file_extension": ".py",
      "mimetype": "text/x-python",
      "name": "python",
      "nbconvert_exporter": "python",
      "pygments_lexer": "ipython3",
      "version": "3.6.4"
    }
  },
  "nbformat": 4,
  "nbformat_minor": 0
}