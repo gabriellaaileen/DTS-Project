{
  "nbformat": 4,
  "nbformat_minor": 0,
  "metadata": {
    "colab": {
      "name": "Basic_Python.ipynb",
      "provenance": [],
      "collapsed_sections": [],
      "authorship_tag": "ABX9TyPlTdKqvqav90zIrFIo89h6",
      "include_colab_link": true
    },
    "kernelspec": {
      "name": "python3",
      "display_name": "Python 3"
    },
    "language_info": {
      "name": "python"
    }
  },
  "cells": [
    {
      "cell_type": "markdown",
      "metadata": {
        "id": "view-in-github",
        "colab_type": "text"
      },
      "source": [
        "<a href=\"https://colab.research.google.com/github/gabriellaaileen/DTS-Project/blob/main/Basic_Python.ipynb\" target=\"_parent\"><img src=\"https://colab.research.google.com/assets/colab-badge.svg\" alt=\"Open In Colab\"/></a>"
      ]
    },
    {
      "cell_type": "code",
      "source": [
        "import pandas as pd\n",
        "import numpy as np"
      ],
      "metadata": {
        "id": "g949JWmZZrt1"
      },
      "execution_count": null,
      "outputs": []
    },
    {
      "cell_type": "markdown",
      "source": [
        "##**Soal 1**\n",
        "Buat program untuk menghitung jumlah seluruh angka ganjil dalam suatu list\n",
        "\n",
        "* Input: list berisi angka-angka\n",
        "* Output: jumlah seluruh angka ganjil"
      ],
      "metadata": {
        "id": "vsvq92V8ZsP9"
      }
    },
    {
      "cell_type": "code",
      "execution_count": null,
      "metadata": {
        "colab": {
          "base_uri": "https://localhost:8080/"
        },
        "id": "kDRJUCwdZmCE",
        "outputId": "3841a636-36fa-46d9-b6da-89f65ec93ce2"
      },
      "outputs": [
        {
          "name": "stdout",
          "output_type": "stream",
          "text": [
            "Masukkan panjang list yang diinginkan: 5\n"
          ]
        }
      ],
      "source": [
        "n = int(input(\"Masukkan panjang list yang diinginkan: \"))"
      ]
    },
    {
      "cell_type": "code",
      "source": [
        "angka = []*n"
      ],
      "metadata": {
        "id": "tYBm8bx-aSAI"
      },
      "execution_count": null,
      "outputs": []
    },
    {
      "cell_type": "code",
      "source": [
        "for i in range(n):\n",
        "  angka.append(int(input(\"masukkan angka ke-\"+str(i+1)+\": \")))"
      ],
      "metadata": {
        "colab": {
          "base_uri": "https://localhost:8080/"
        },
        "id": "nYNfLom4aKcA",
        "outputId": "80ba8fca-3be5-4979-c63b-9ff739d95a4a"
      },
      "execution_count": null,
      "outputs": [
        {
          "name": "stdout",
          "output_type": "stream",
          "text": [
            "masukkan angka ke-1: 3\n",
            "masukkan angka ke-2: 2\n",
            "masukkan angka ke-3: 5\n",
            "masukkan angka ke-4: 3\n",
            "masukkan angka ke-5: 6\n"
          ]
        }
      ]
    },
    {
      "cell_type": "code",
      "source": [
        "print(angka)"
      ],
      "metadata": {
        "colab": {
          "base_uri": "https://localhost:8080/"
        },
        "id": "ONsiSvOjcdFw",
        "outputId": "bafa3adb-96ca-466f-8550-ba5fe80f64ee"
      },
      "execution_count": null,
      "outputs": [
        {
          "output_type": "stream",
          "name": "stdout",
          "text": [
            "[3, 2, 5, 3, 6]\n"
          ]
        }
      ]
    },
    {
      "cell_type": "code",
      "source": [
        "jumlah = 0\n",
        "for i in range(n):\n",
        "  if angka[i]%2==1:\n",
        "    jumlah=jumlah+angka[i]"
      ],
      "metadata": {
        "id": "11PtzZr0chRE"
      },
      "execution_count": null,
      "outputs": []
    },
    {
      "cell_type": "code",
      "source": [
        "print(\"jumlah angka ganjilnya adalah:\")\n",
        "print(jumlah)"
      ],
      "metadata": {
        "colab": {
          "base_uri": "https://localhost:8080/"
        },
        "id": "-17nHSk5c3YH",
        "outputId": "87f98948-3d56-4dae-8145-2f2ac4efac40"
      },
      "execution_count": null,
      "outputs": [
        {
          "output_type": "stream",
          "name": "stdout",
          "text": [
            "jumlah angka ganjilnya adalah:\n",
            "11\n"
          ]
        }
      ]
    },
    {
      "cell_type": "markdown",
      "source": [
        "##**Soal 2**\n",
        "Diberikan input suatu angka, tampilkan formasi piramida bintang dengan tinggi sesuai dengan angka yang diinputkan\n",
        "* Input: suatu angka (n)\n",
        "* Output: piramida dengan tinggi n"
      ],
      "metadata": {
        "id": "Cpr09qKxdFHy"
      }
    },
    {
      "cell_type": "code",
      "source": [
        "n = int(input(\"Masukkan tinggi piramida:\"))"
      ],
      "metadata": {
        "colab": {
          "base_uri": "https://localhost:8080/"
        },
        "id": "ZQbQP04idJDs",
        "outputId": "2edda8d5-1090-4725-b376-9fd9888a3ac0"
      },
      "execution_count": null,
      "outputs": [
        {
          "name": "stdout",
          "output_type": "stream",
          "text": [
            "Masukkan tinggi piramida:10\n"
          ]
        }
      ]
    },
    {
      "cell_type": "code",
      "source": [
        "n_space=n-1\n",
        "n_star=1\n",
        "for i in range(n):\n",
        "  for j in range(n_space):\n",
        "    print(end=\" \")\n",
        "  for k in range(n_star):\n",
        "    print(\"*\",end=\"\")\n",
        "  for j in range(n_space):\n",
        "    print(end=\" \")\n",
        "  print()\n",
        "  n_star=n_star+2\n",
        "  n_space=n_space-1"
      ],
      "metadata": {
        "colab": {
          "base_uri": "https://localhost:8080/"
        },
        "id": "CCCMmKweekBH",
        "outputId": "7a55d712-6ec6-4fc1-a84b-1e84fe2c6537"
      },
      "execution_count": null,
      "outputs": [
        {
          "output_type": "stream",
          "name": "stdout",
          "text": [
            "         *         \n",
            "        ***        \n",
            "       *****       \n",
            "      *******      \n",
            "     *********     \n",
            "    ***********    \n",
            "   *************   \n",
            "  ***************  \n",
            " ***************** \n",
            "*******************\n"
          ]
        }
      ]
    }
  ]
}